{
 "cells": [
  {
   "cell_type": "markdown",
   "metadata": {},
   "source": [
    "### Goal: \n",
    "\n",
    "On Yelp, restaurants themselves can provide information about themselves using the labels that are predefined under the \"More Business Info\" on Yelp's user interface.  Among these labels are attributes such as \"restaurant is good for kids\", \"restaurant is good for groups,\" \"restaurant has alcohol,\" the \"ambience is classy,\" or \"restaurant attire is casual\" - among many other attributes. In addition, users, on the other hand, can upload photos of the business, the food, and the ambiance/environment.  The vast amount of photos may be able to provide information about the business and its attributes like ones restaurant owners use to describe their businesses. \n",
    "\n",
    "There are two parts to this project.  The first goal of this project is to use photos uploaded for a business to help the labeling process on Yelp.  It is essentially an automation solution to aid both restaurants and Yelp in creating useful and less human-created business profiles, in which there is less human intervention. I plan to use images from the Yelp dataset in order to train a model that will take images from a business and give that business the appropriate attribute labels.\n",
    "\n",
    "Once labels are correctly attributed, I will then use those labels to help a user find a similar restaurant by creating a recommender system.  The recommendation system, given a photo, will label the business in the photo with the correct attributes and then find other businesses in the surrounding area that the user might also enjoy. \n",
    "\n",
    "##### Models\n",
    "This project will require a Convolutional Neural Network Model to classify images as well as a Recommender System model. "
   ]
  },
  {
   "cell_type": "markdown",
   "metadata": {},
   "source": [
    "##### Metrics \n",
    "To assess performance I will use the accuracy, and AUC value. \n",
    "* May need to contemplate about optimizing false negatives vs. false positives"
   ]
  },
  {
   "cell_type": "markdown",
   "metadata": {},
   "source": [
    "#### Data\n",
    "Data collected from https://www.yelp.com/dataset. \n",
    "* I need help converting json to csv\n",
    "* They offer some code to help but it's written in python 2, so I keep getting errors..."
   ]
  },
  {
   "cell_type": "code",
   "execution_count": null,
   "metadata": {},
   "outputs": [],
   "source": []
  }
 ],
 "metadata": {
  "kernelspec": {
   "display_name": "Python (nnet)",
   "language": "python",
   "name": "nnet"
  },
  "language_info": {
   "codemirror_mode": {
    "name": "ipython",
    "version": 3
   },
   "file_extension": ".py",
   "mimetype": "text/x-python",
   "name": "python",
   "nbconvert_exporter": "python",
   "pygments_lexer": "ipython3",
   "version": "3.8.8"
  }
 },
 "nbformat": 4,
 "nbformat_minor": 4
}
