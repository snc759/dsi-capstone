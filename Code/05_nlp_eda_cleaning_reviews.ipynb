{
 "cells": [
  {
   "cell_type": "markdown",
   "metadata": {
    "id": "woCOGqALnP98"
   },
   "source": [
    "# Exploratory Data Analysis with Labeled Reviews Dataset\n",
    "\n",
    "Note: This notebook was executed in Google Colab with GPU as the runtime\n",
    "\n"
   ]
  },
  {
   "cell_type": "code",
   "execution_count": 39,
   "metadata": {
    "colab": {
     "base_uri": "https://localhost:8080/"
    },
    "executionInfo": {
     "elapsed": 278,
     "status": "ok",
     "timestamp": 1620691577163,
     "user": {
      "displayName": "Samantha C",
      "photoUrl": "",
      "userId": "15753314095829738815"
     },
     "user_tz": 240
    },
    "id": "RRt0m5HRkQfE",
    "outputId": "0577a0f4-4acd-497f-dc6b-891e37723982"
   },
   "outputs": [],
   "source": [
    "# mounts my drive onto google colab\n",
    "# from google.colab import drive\n",
    "# drive.mount('/content/drive')"
   ]
  },
  {
   "cell_type": "code",
   "execution_count": 1,
   "metadata": {
    "colab": {
     "base_uri": "https://localhost:8080/"
    },
    "executionInfo": {
     "elapsed": 1832,
     "status": "ok",
     "timestamp": 1620691584210,
     "user": {
      "displayName": "Samantha C",
      "photoUrl": "",
      "userId": "15753314095829738815"
     },
     "user_tz": 240
    },
    "id": "22a2f89d",
    "outputId": "3f1131ca-2633-482f-f3c6-523a6c126aa4"
   },
   "outputs": [],
   "source": [
    "# imports\n",
    "import numpy as np\n",
    "import pandas as pd\n",
    "import matplotlib.pyplot as plt\n",
    "import seaborn as sns\n",
    "\n",
    "import statistics as stats\n",
    "\n",
    "## week 3 imports\n",
    "import missingno as msno     \n",
    "import statsmodels.api as sm\n",
    "from statsmodels.formula.api import ols\n",
    "\n",
    "# Linear and general modeling imports\n",
    "from sklearn.linear_model import LinearRegression, Ridge, Lasso, ElasticNet, RidgeCV, LassoCV, ElasticNetCV\n",
    "from sklearn.model_selection import train_test_split, cross_val_score, cross_validate, GridSearchCV, RandomizedSearchCV\n",
    "from sklearn.metrics import mean_squared_error, r2_score\n",
    "\n",
    "# Feature Engineering\n",
    "from sklearn.preprocessing import StandardScaler, PolynomialFeatures   # Scale/transform/feature engineering\n",
    "from sklearn.experimental import enable_iterative_imputer \n",
    "from sklearn.impute import SimpleImputer, KNNImputer, IterativeImputer\n",
    "\n",
    "# imports mice\n",
    "# from impyute.imputation.cs import mice\n",
    "\n",
    "import patsy\n",
    "# y, X = patsy.dmatrices(formula, data=diamonds, return_type='dataframe')\n",
    "\n",
    "# GridSearch and Hyperparameter Tuning\n",
    "# from sklearn.model_selection import GridSearchCV, RandomizedSearchCV\n",
    "from sklearn.pipeline import Pipeline, make_pipeline\n",
    "\n",
    "# Logistic and Classification metrics\n",
    "from sklearn.linear_model import LogisticRegression\n",
    "# from sklearn.model_selection import train_test_split, cross_val_score, GridSearchCV, RandomizedSearchCV\n",
    "from sklearn.metrics import confusion_matrix, ConfusionMatrixDisplay, accuracy_score, plot_roc_curve, roc_auc_score, recall_score, precision_score, f1_score, classification_report\n",
    "\n",
    "# K Nearest Neighbors\n",
    "from sklearn.neighbors import KNeighborsClassifier, KNeighborsRegressor\n",
    "# from sklearn.model_selection import train_test_split, cross_val_score\n",
    "# from sklearn.preprocessing import StandardScaler\n",
    "\n",
    "# naive bayes imports\n",
    "from sklearn.naive_bayes import MultinomialNB, BernoulliNB\n",
    "\n",
    "# SVMs\n",
    "from sklearn.svm import LinearSVC, SVC\n",
    "\n",
    "# Decision Trees\n",
    "from sklearn.tree import DecisionTreeClassifier, plot_tree, export_text\n",
    "\n",
    "# Import Bagging, Boosting, and Random Forests, and ExtraTrees (Extremely Randomized Trees)\n",
    "from sklearn.ensemble import BaggingClassifier, BaggingRegressor, AdaBoostClassifier, AdaBoostRegressor, RandomForestClassifier, RandomForestRegressor, ExtraTreesClassifier, ExtraTreesRegressor\n"
   ]
  },
  {
   "cell_type": "code",
   "execution_count": 2,
   "metadata": {
    "executionInfo": {
     "elapsed": 859,
     "status": "ok",
     "timestamp": 1620691584213,
     "user": {
      "displayName": "Samantha C",
      "photoUrl": "",
      "userId": "15753314095829738815"
     },
     "user_tz": 240
    },
    "id": "ed9e157c"
   },
   "outputs": [],
   "source": [
    "# !pip install nltk"
   ]
  },
  {
   "cell_type": "code",
   "execution_count": 3,
   "metadata": {
    "colab": {
     "base_uri": "https://localhost:8080/"
    },
    "executionInfo": {
     "elapsed": 922,
     "status": "ok",
     "timestamp": 1620691585230,
     "user": {
      "displayName": "Samantha C",
      "photoUrl": "",
      "userId": "15753314095829738815"
     },
     "user_tz": 240
    },
    "id": "d31f03b3",
    "outputId": "91b13ee0-1052-4119-9eb4-b27db0ac2a9a"
   },
   "outputs": [
    {
     "name": "stderr",
     "output_type": "stream",
     "text": [
      "[nltk_data] Downloading package stopwords to\n",
      "[nltk_data]     C:\\Users\\snchu\\AppData\\Roaming\\nltk_data...\n",
      "[nltk_data]   Package stopwords is already up-to-date!\n"
     ]
    }
   ],
   "source": [
    "# imports NLP libraries\n",
    "from sklearn.feature_extraction.text import CountVectorizer, TfidfVectorizer\n",
    "import nltk\n",
    "# nltk.download() # --> Download all, and then restart jupyter lab\n",
    "nltk.download('stopwords')\n",
    "from nltk.tokenize import sent_tokenize, word_tokenize, RegexpTokenizer\n",
    "from nltk.stem import WordNetLemmatizer\n",
    "from nltk.stem.porter import PorterStemmer\n",
    "from nltk.corpus import stopwords\n",
    "from nltk.sentiment.vader import SentimentIntensityAnalyzer\n",
    "from nltk import FreqDist, pos_tag\n",
    "import re"
   ]
  },
  {
   "cell_type": "code",
   "execution_count": 4,
   "metadata": {
    "executionInfo": {
     "elapsed": 446,
     "status": "ok",
     "timestamp": 1620691585231,
     "user": {
      "displayName": "Samantha C",
      "photoUrl": "",
      "userId": "15753314095829738815"
     },
     "user_tz": 240
    },
    "id": "nuUVefENNQXV"
   },
   "outputs": [],
   "source": [
    "# Functions to be used for cleaning \n",
    "\n",
    "# Keeps the words only function\n",
    "def keep_words_only(text):\n",
    "    \"\"\"Cleans text so that any special characters are removed and only words are kept\"\"\"\n",
    "    \n",
    "    # Instantiates tokenizer\n",
    "    regex_tokenizer = RegexpTokenizer(\"\\w+[']*\")\n",
    "    \n",
    "    # tokenizes the text\n",
    "    words = regex_tokenizer.tokenize(text.lower())\n",
    "    \n",
    "    # Takes out stopwords\n",
    "    stopwords_list = stopwords.words('english')\n",
    "    no_stops_words = [word for word in words if word.lower() not in stopwords_list]\n",
    "    \n",
    "    return (' ').join(no_stops_words)\n",
    "\n",
    "\n",
    "\n",
    "def clean_text_stem(text):\n",
    "    \"\"\"Cleans text by keeping words only, tokenizing, stemming and removing stopwords\"\"\"\n",
    "    #Instantiate tokenizer and stemmer and lemmatizer\n",
    "    re_tokenizer = RegexpTokenizer(\"\\w+\")\n",
    "    lemmatizer = WordNetLemmatizer()\n",
    "    p_stemmer = PorterStemmer()\n",
    "        \n",
    "    # Tokenze the text\n",
    "    words = re_tokenizer.tokenize(text.lower())\n",
    "    \n",
    "    # Filter stop words\n",
    "    stopwords_list = stopwords.words('english')\n",
    "    \n",
    "     # Adds custom stopwords to stopwords_list\n",
    "#     custom = []\n",
    "#     stopwords_list = stopwords_list + custom\n",
    "\n",
    "    no_stops_stemmed = [p_stemmer.stem(word) for word in words if word.lower() not in stopwords_list]\n",
    "    \n",
    "    return (' ').join(no_stops_stemmed)"
   ]
  },
  {
   "cell_type": "code",
   "execution_count": 5,
   "metadata": {
    "executionInfo": {
     "elapsed": 2205,
     "status": "ok",
     "timestamp": 1620691587404,
     "user": {
      "displayName": "Samantha C",
      "photoUrl": "",
      "userId": "15753314095829738815"
     },
     "user_tz": 240
    },
    "id": "56e42c8e"
   },
   "outputs": [],
   "source": [
    "# Loads review data\n",
    "# reviews_df = pd.read_csv('/content/drive/MyDrive/MSBA Smith School/General Assembly/Colab/labeled_reviews.csv')\n",
    "\n",
    "reviews_df = pd.read_csv('../Data/reviews_labeled.csv')"
   ]
  },
  {
   "cell_type": "code",
   "execution_count": 6,
   "metadata": {
    "colab": {
     "base_uri": "https://localhost:8080/",
     "height": 204
    },
    "executionInfo": {
     "elapsed": 1777,
     "status": "ok",
     "timestamp": 1620691587407,
     "user": {
      "displayName": "Samantha C",
      "photoUrl": "",
      "userId": "15753314095829738815"
     },
     "user_tz": 240
    },
    "id": "78bd0b2a",
    "outputId": "6513b997-26a2-49c1-afdc-3ac4e932c399"
   },
   "outputs": [
    {
     "data": {
      "text/html": [
       "<div>\n",
       "<style scoped>\n",
       "    .dataframe tbody tr th:only-of-type {\n",
       "        vertical-align: middle;\n",
       "    }\n",
       "\n",
       "    .dataframe tbody tr th {\n",
       "        vertical-align: top;\n",
       "    }\n",
       "\n",
       "    .dataframe thead th {\n",
       "        text-align: right;\n",
       "    }\n",
       "</style>\n",
       "<table border=\"1\" class=\"dataframe\">\n",
       "  <thead>\n",
       "    <tr style=\"text-align: right;\">\n",
       "      <th></th>\n",
       "      <th>business_id</th>\n",
       "      <th>name</th>\n",
       "      <th>review_id</th>\n",
       "      <th>review_stars</th>\n",
       "      <th>text</th>\n",
       "      <th>amb_casual</th>\n",
       "      <th>amb_classy</th>\n",
       "      <th>amb_target</th>\n",
       "    </tr>\n",
       "  </thead>\n",
       "  <tbody>\n",
       "    <tr>\n",
       "      <th>0</th>\n",
       "      <td>0lCiLKpjrinltPFbBby4sw</td>\n",
       "      <td>The Great Wall Restaurant</td>\n",
       "      <td>wve8w6gIuPpCfo5J--AHjg</td>\n",
       "      <td>3</td>\n",
       "      <td>The menu sounded promising, with over fifty di...</td>\n",
       "      <td>0.0</td>\n",
       "      <td>0.0</td>\n",
       "      <td>0</td>\n",
       "    </tr>\n",
       "    <tr>\n",
       "      <th>1</th>\n",
       "      <td>0lCiLKpjrinltPFbBby4sw</td>\n",
       "      <td>The Great Wall Restaurant</td>\n",
       "      <td>5rFuHGGbimVxPHxgM0sNSA</td>\n",
       "      <td>3</td>\n",
       "      <td>This wasn't the worst Chinese food but it wasn...</td>\n",
       "      <td>0.0</td>\n",
       "      <td>0.0</td>\n",
       "      <td>0</td>\n",
       "    </tr>\n",
       "    <tr>\n",
       "      <th>2</th>\n",
       "      <td>0lCiLKpjrinltPFbBby4sw</td>\n",
       "      <td>The Great Wall Restaurant</td>\n",
       "      <td>2iD3Rdbw0DUzjZSqBq3hXQ</td>\n",
       "      <td>1</td>\n",
       "      <td>I have been coming to this restaurant for over...</td>\n",
       "      <td>0.0</td>\n",
       "      <td>0.0</td>\n",
       "      <td>0</td>\n",
       "    </tr>\n",
       "    <tr>\n",
       "      <th>3</th>\n",
       "      <td>0lCiLKpjrinltPFbBby4sw</td>\n",
       "      <td>The Great Wall Restaurant</td>\n",
       "      <td>e61y5ZlNwg04mAGtcD3vbQ</td>\n",
       "      <td>5</td>\n",
       "      <td>My husband and I love this place.\\nGreat price...</td>\n",
       "      <td>0.0</td>\n",
       "      <td>0.0</td>\n",
       "      <td>0</td>\n",
       "    </tr>\n",
       "    <tr>\n",
       "      <th>4</th>\n",
       "      <td>kZFTi8FKjs30EuzurZ3v3g</td>\n",
       "      <td>Donerick's Pub</td>\n",
       "      <td>38lN2ONaypsfBDLwhGxcSg</td>\n",
       "      <td>5</td>\n",
       "      <td>Great place for beverages with your friends wh...</td>\n",
       "      <td>0.0</td>\n",
       "      <td>0.0</td>\n",
       "      <td>0</td>\n",
       "    </tr>\n",
       "  </tbody>\n",
       "</table>\n",
       "</div>"
      ],
      "text/plain": [
       "              business_id                       name               review_id  \\\n",
       "0  0lCiLKpjrinltPFbBby4sw  The Great Wall Restaurant  wve8w6gIuPpCfo5J--AHjg   \n",
       "1  0lCiLKpjrinltPFbBby4sw  The Great Wall Restaurant  5rFuHGGbimVxPHxgM0sNSA   \n",
       "2  0lCiLKpjrinltPFbBby4sw  The Great Wall Restaurant  2iD3Rdbw0DUzjZSqBq3hXQ   \n",
       "3  0lCiLKpjrinltPFbBby4sw  The Great Wall Restaurant  e61y5ZlNwg04mAGtcD3vbQ   \n",
       "4  kZFTi8FKjs30EuzurZ3v3g             Donerick's Pub  38lN2ONaypsfBDLwhGxcSg   \n",
       "\n",
       "   review_stars                                               text  \\\n",
       "0             3  The menu sounded promising, with over fifty di...   \n",
       "1             3  This wasn't the worst Chinese food but it wasn...   \n",
       "2             1  I have been coming to this restaurant for over...   \n",
       "3             5  My husband and I love this place.\\nGreat price...   \n",
       "4             5  Great place for beverages with your friends wh...   \n",
       "\n",
       "   amb_casual  amb_classy  amb_target  \n",
       "0         0.0         0.0           0  \n",
       "1         0.0         0.0           0  \n",
       "2         0.0         0.0           0  \n",
       "3         0.0         0.0           0  \n",
       "4         0.0         0.0           0  "
      ]
     },
     "execution_count": 6,
     "metadata": {},
     "output_type": "execute_result"
    }
   ],
   "source": [
    "reviews_df.head()"
   ]
  },
  {
   "cell_type": "code",
   "execution_count": 46,
   "metadata": {
    "colab": {
     "base_uri": "https://localhost:8080/"
    },
    "executionInfo": {
     "elapsed": 1321,
     "status": "ok",
     "timestamp": 1620691587408,
     "user": {
      "displayName": "Samantha C",
      "photoUrl": "",
      "userId": "15753314095829738815"
     },
     "user_tz": 240
    },
    "id": "c6f0R6flMpuH",
    "outputId": "fe255d8e-c3fc-4c38-802d-2f81cb035086"
   },
   "outputs": [
    {
     "data": {
      "text/plain": [
       "business_id     0\n",
       "name            0\n",
       "review_id       0\n",
       "review_stars    0\n",
       "text            0\n",
       "amb_casual      0\n",
       "amb_classy      0\n",
       "amb_target      0\n",
       "dtype: int64"
      ]
     },
     "execution_count": 46,
     "metadata": {},
     "output_type": "execute_result"
    }
   ],
   "source": [
    "# Checks for any nulls in the dataset\n",
    "reviews_df.isnull().sum()"
   ]
  },
  {
   "cell_type": "code",
   "execution_count": 47,
   "metadata": {
    "colab": {
     "base_uri": "https://localhost:8080/"
    },
    "executionInfo": {
     "elapsed": 1047,
     "status": "ok",
     "timestamp": 1620691587578,
     "user": {
      "displayName": "Samantha C",
      "photoUrl": "",
      "userId": "15753314095829738815"
     },
     "user_tz": 240
    },
    "id": "eb416f0f",
    "outputId": "566e6735-5621-4617-8a5f-f3ee40614a99"
   },
   "outputs": [
    {
     "data": {
      "text/plain": [
       "1    44211\n",
       "3    18880\n",
       "2    13848\n",
       "0    12408\n",
       "Name: amb_target, dtype: int64"
      ]
     },
     "execution_count": 47,
     "metadata": {},
     "output_type": "execute_result"
    }
   ],
   "source": [
    "# Checks the value_counts of the target variable/baseline score\n",
    "reviews_df['amb_target'].value_counts(dropna=False)"
   ]
  },
  {
   "cell_type": "code",
   "execution_count": 48,
   "metadata": {
    "executionInfo": {
     "elapsed": 961,
     "status": "ok",
     "timestamp": 1620691589652,
     "user": {
      "displayName": "Samantha C",
      "photoUrl": "",
      "userId": "15753314095829738815"
     },
     "user_tz": 240
    },
    "id": "b_K1oT0rqGG7"
   },
   "outputs": [],
   "source": [
    "# Creates a new column that reflects the length or word count for each review\n",
    "reviews_df['text_length'] = reviews_df['text'].map(lambda x: len(x.split(' ')))"
   ]
  },
  {
   "cell_type": "code",
   "execution_count": 49,
   "metadata": {
    "executionInfo": {
     "elapsed": 2698,
     "status": "ok",
     "timestamp": 1620691591912,
     "user": {
      "displayName": "Samantha C",
      "photoUrl": "",
      "userId": "15753314095829738815"
     },
     "user_tz": 240
    },
    "id": "86d70cca"
   },
   "outputs": [],
   "source": [
    "# Creates a new clean_text column that removes any special characters from the review text\n",
    "reviews_df['clean_text'] = reviews_df['text'].map(keep_words_only)"
   ]
  },
  {
   "cell_type": "code",
   "execution_count": 50,
   "metadata": {
    "executionInfo": {
     "elapsed": 2615,
     "status": "ok",
     "timestamp": 1620691592432,
     "user": {
      "displayName": "Samantha C",
      "photoUrl": "",
      "userId": "15753314095829738815"
     },
     "user_tz": 240
    },
    "id": "7JD1-UekCTHa"
   },
   "outputs": [],
   "source": [
    "# Creates a new column that reflects the length or word count of each clean text review\n",
    "reviews_df['clean_text_length'] = reviews_df['clean_text'].map(lambda x: len(x.split(' ')))"
   ]
  },
  {
   "cell_type": "code",
   "execution_count": 51,
   "metadata": {
    "colab": {
     "base_uri": "https://localhost:8080/",
     "height": 374
    },
    "executionInfo": {
     "elapsed": 335,
     "status": "ok",
     "timestamp": 1620691593394,
     "user": {
      "displayName": "Samantha C",
      "photoUrl": "",
      "userId": "15753314095829738815"
     },
     "user_tz": 240
    },
    "id": "1a72hrdiIGfU",
    "outputId": "fa047a8a-7493-4a69-88a1-93100441b823"
   },
   "outputs": [
    {
     "data": {
      "text/html": [
       "<div>\n",
       "<style scoped>\n",
       "    .dataframe tbody tr th:only-of-type {\n",
       "        vertical-align: middle;\n",
       "    }\n",
       "\n",
       "    .dataframe tbody tr th {\n",
       "        vertical-align: top;\n",
       "    }\n",
       "\n",
       "    .dataframe thead th {\n",
       "        text-align: right;\n",
       "    }\n",
       "</style>\n",
       "<table border=\"1\" class=\"dataframe\">\n",
       "  <thead>\n",
       "    <tr style=\"text-align: right;\">\n",
       "      <th></th>\n",
       "      <th>business_id</th>\n",
       "      <th>name</th>\n",
       "      <th>review_id</th>\n",
       "      <th>review_stars</th>\n",
       "      <th>text</th>\n",
       "      <th>amb_casual</th>\n",
       "      <th>amb_classy</th>\n",
       "      <th>amb_target</th>\n",
       "      <th>text_length</th>\n",
       "      <th>clean_text</th>\n",
       "      <th>clean_text_length</th>\n",
       "    </tr>\n",
       "  </thead>\n",
       "  <tbody>\n",
       "    <tr>\n",
       "      <th>0</th>\n",
       "      <td>0lCiLKpjrinltPFbBby4sw</td>\n",
       "      <td>The Great Wall Restaurant</td>\n",
       "      <td>wve8w6gIuPpCfo5J--AHjg</td>\n",
       "      <td>3</td>\n",
       "      <td>The menu sounded promising, with over fifty di...</td>\n",
       "      <td>0.0</td>\n",
       "      <td>0.0</td>\n",
       "      <td>0</td>\n",
       "      <td>121</td>\n",
       "      <td>menu sounded promising fifty different dishes ...</td>\n",
       "      <td>68</td>\n",
       "    </tr>\n",
       "    <tr>\n",
       "      <th>1</th>\n",
       "      <td>0lCiLKpjrinltPFbBby4sw</td>\n",
       "      <td>The Great Wall Restaurant</td>\n",
       "      <td>5rFuHGGbimVxPHxgM0sNSA</td>\n",
       "      <td>3</td>\n",
       "      <td>This wasn't the worst Chinese food but it wasn...</td>\n",
       "      <td>0.0</td>\n",
       "      <td>0.0</td>\n",
       "      <td>0</td>\n",
       "      <td>78</td>\n",
       "      <td>wasn' worst chinese food wasn' best egg foo yo...</td>\n",
       "      <td>41</td>\n",
       "    </tr>\n",
       "    <tr>\n",
       "      <th>2</th>\n",
       "      <td>0lCiLKpjrinltPFbBby4sw</td>\n",
       "      <td>The Great Wall Restaurant</td>\n",
       "      <td>2iD3Rdbw0DUzjZSqBq3hXQ</td>\n",
       "      <td>1</td>\n",
       "      <td>I have been coming to this restaurant for over...</td>\n",
       "      <td>0.0</td>\n",
       "      <td>0.0</td>\n",
       "      <td>0</td>\n",
       "      <td>52</td>\n",
       "      <td>coming restaurant 20 years purchased shrimp fr...</td>\n",
       "      <td>27</td>\n",
       "    </tr>\n",
       "    <tr>\n",
       "      <th>3</th>\n",
       "      <td>0lCiLKpjrinltPFbBby4sw</td>\n",
       "      <td>The Great Wall Restaurant</td>\n",
       "      <td>e61y5ZlNwg04mAGtcD3vbQ</td>\n",
       "      <td>5</td>\n",
       "      <td>My husband and I love this place.\\nGreat price...</td>\n",
       "      <td>0.0</td>\n",
       "      <td>0.0</td>\n",
       "      <td>0</td>\n",
       "      <td>23</td>\n",
       "      <td>husband love place great price lot food make s...</td>\n",
       "      <td>13</td>\n",
       "    </tr>\n",
       "    <tr>\n",
       "      <th>4</th>\n",
       "      <td>kZFTi8FKjs30EuzurZ3v3g</td>\n",
       "      <td>Donerick's Pub</td>\n",
       "      <td>38lN2ONaypsfBDLwhGxcSg</td>\n",
       "      <td>5</td>\n",
       "      <td>Great place for beverages with your friends wh...</td>\n",
       "      <td>0.0</td>\n",
       "      <td>0.0</td>\n",
       "      <td>0</td>\n",
       "      <td>61</td>\n",
       "      <td>great place beverages friends watch game lots ...</td>\n",
       "      <td>43</td>\n",
       "    </tr>\n",
       "  </tbody>\n",
       "</table>\n",
       "</div>"
      ],
      "text/plain": [
       "              business_id                       name               review_id  \\\n",
       "0  0lCiLKpjrinltPFbBby4sw  The Great Wall Restaurant  wve8w6gIuPpCfo5J--AHjg   \n",
       "1  0lCiLKpjrinltPFbBby4sw  The Great Wall Restaurant  5rFuHGGbimVxPHxgM0sNSA   \n",
       "2  0lCiLKpjrinltPFbBby4sw  The Great Wall Restaurant  2iD3Rdbw0DUzjZSqBq3hXQ   \n",
       "3  0lCiLKpjrinltPFbBby4sw  The Great Wall Restaurant  e61y5ZlNwg04mAGtcD3vbQ   \n",
       "4  kZFTi8FKjs30EuzurZ3v3g             Donerick's Pub  38lN2ONaypsfBDLwhGxcSg   \n",
       "\n",
       "   review_stars                                               text  \\\n",
       "0             3  The menu sounded promising, with over fifty di...   \n",
       "1             3  This wasn't the worst Chinese food but it wasn...   \n",
       "2             1  I have been coming to this restaurant for over...   \n",
       "3             5  My husband and I love this place.\\nGreat price...   \n",
       "4             5  Great place for beverages with your friends wh...   \n",
       "\n",
       "   amb_casual  amb_classy  amb_target  text_length  \\\n",
       "0         0.0         0.0           0          121   \n",
       "1         0.0         0.0           0           78   \n",
       "2         0.0         0.0           0           52   \n",
       "3         0.0         0.0           0           23   \n",
       "4         0.0         0.0           0           61   \n",
       "\n",
       "                                          clean_text  clean_text_length  \n",
       "0  menu sounded promising fifty different dishes ...                 68  \n",
       "1  wasn' worst chinese food wasn' best egg foo yo...                 41  \n",
       "2  coming restaurant 20 years purchased shrimp fr...                 27  \n",
       "3  husband love place great price lot food make s...                 13  \n",
       "4  great place beverages friends watch game lots ...                 43  "
      ]
     },
     "execution_count": 51,
     "metadata": {},
     "output_type": "execute_result"
    }
   ],
   "source": [
    "reviews_df.head()"
   ]
  },
  {
   "cell_type": "code",
   "execution_count": 52,
   "metadata": {
    "colab": {
     "base_uri": "https://localhost:8080/",
     "height": 280
    },
    "executionInfo": {
     "elapsed": 959,
     "status": "ok",
     "timestamp": 1620691594872,
     "user": {
      "displayName": "Samantha C",
      "photoUrl": "",
      "userId": "15753314095829738815"
     },
     "user_tz": 240
    },
    "id": "SyzIBQxXIF8c",
    "outputId": "76c61598-19ed-450d-da22-6252e48ae3de"
   },
   "outputs": [
    {
     "data": {
      "image/png": "[encoded data removed]",
      "text/plain": [
       "<Figure size 432x288 with 1 Axes>"
      ]
     },
     "metadata": {
      "needs_background": "light"
     },
     "output_type": "display_data"
    }
   ],
   "source": [
    "# Displays the distribution of the review word count using a histogram\n",
    "sns.histplot(reviews_df['clean_text_length']);"
   ]
  },
  {
   "cell_type": "markdown",
   "metadata": {
    "id": "JxlBVCBQJpvW"
   },
   "source": [
    "**Interpretation**: Many reviews are less than 200 words. The distribution of review lengths is skewed to the right. "
   ]
  },
  {
   "cell_type": "code",
   "execution_count": 53,
   "metadata": {
    "colab": {
     "base_uri": "https://localhost:8080/",
     "height": 280
    },
    "executionInfo": {
     "elapsed": 493,
     "status": "ok",
     "timestamp": 1620691595776,
     "user": {
      "displayName": "Samantha C",
      "photoUrl": "",
      "userId": "15753314095829738815"
     },
     "user_tz": 240
    },
    "id": "SLVFFqDcIFXF",
    "outputId": "5018bda1-76a0-4421-f098-71e1d2a12062"
   },
   "outputs": [
    {
     "data": {
      "image/png": "[encoded data removed]",
      "text/plain": [
       "<Figure size 432x288 with 1 Axes>"
      ]
     },
     "metadata": {
      "needs_background": "light"
     },
     "output_type": "display_data"
    }
   ],
   "source": [
    "# Displays the distribution of the review word count using a boxplot \n",
    "sns.boxplot(x=reviews_df['clean_text_length']);"
   ]
  },
  {
   "cell_type": "markdown",
   "metadata": {
    "id": "sJ3RNlijJ0bz"
   },
   "source": [
    "**Interpretation**: This boxplot is showing something similar to the histogram of the review lengths.  Again the distribution of the review lengths is skewed to the right with a lot of outliers to the right.  A majority of the review lengths tend to stay less than 200 words. "
   ]
  },
  {
   "cell_type": "code",
   "execution_count": 54,
   "metadata": {
    "colab": {
     "base_uri": "https://localhost:8080/"
    },
    "executionInfo": {
     "elapsed": 272,
     "status": "ok",
     "timestamp": 1620691597004,
     "user": {
      "displayName": "Samantha C",
      "photoUrl": "",
      "userId": "15753314095829738815"
     },
     "user_tz": 240
    },
    "id": "JP3E94TxI0YG",
    "outputId": "23028a39-0764-4fdf-92c6-d8d4353cc883"
   },
   "outputs": [
    {
     "data": {
      "text/plain": [
       "count    89347.000000\n",
       "mean        54.190672\n",
       "std         48.274675\n",
       "min          1.000000\n",
       "25%         22.000000\n",
       "50%         39.000000\n",
       "75%         69.000000\n",
       "max        507.000000\n",
       "Name: clean_text_length, dtype: float64"
      ]
     },
     "execution_count": 54,
     "metadata": {},
     "output_type": "execute_result"
    }
   ],
   "source": [
    "# Looks at the distribution of the word count through summary statistics\n",
    "reviews_df['clean_text_length'].describe()"
   ]
  },
  {
   "cell_type": "markdown",
   "metadata": {
    "id": "jYV1fa4eKS2t"
   },
   "source": [
    "**Interpretation**: The mean word count of reviews is 103 words.  The minimum count of words in a review is 1 word, and that is before taking out stop words.  Will likely have to omit certain reviews due to the word count being too small. "
   ]
  },
  {
   "cell_type": "code",
   "execution_count": 55,
   "metadata": {
    "colab": {
     "base_uri": "https://localhost:8080/"
    },
    "executionInfo": {
     "elapsed": 265,
     "status": "ok",
     "timestamp": 1620691598235,
     "user": {
      "displayName": "Samantha C",
      "photoUrl": "",
      "userId": "15753314095829738815"
     },
     "user_tz": 240
    },
    "id": "YxAC-mBMKtlp",
    "outputId": "ca44377f-04d8-414c-c279-974526d5bbd2"
   },
   "outputs": [
    {
     "data": {
      "text/plain": [
       "20"
      ]
     },
     "execution_count": 55,
     "metadata": {},
     "output_type": "execute_result"
    }
   ],
   "source": [
    "# Checks the mode of the word count in reviews\n",
    "stats.mode(reviews_df['clean_text_length'])"
   ]
  },
  {
   "cell_type": "markdown",
   "metadata": {
    "id": "AFBnAY8YrL6v"
   },
   "source": [
    "### Stems the reviews"
   ]
  },
  {
   "cell_type": "code",
   "execution_count": 56,
   "metadata": {
    "executionInfo": {
     "elapsed": 134744,
     "status": "ok",
     "timestamp": 1620691733838,
     "user": {
      "displayName": "Samantha C",
      "photoUrl": "",
      "userId": "15753314095829738815"
     },
     "user_tz": 240
    },
    "id": "Gs-jzBq4L-6m"
   },
   "outputs": [],
   "source": [
    "# Creates a new clean text column, which contains only the stemmed words from the reviews\n",
    "reviews_df['clean_text_stem'] = reviews_df['text'].map(clean_text_stem)"
   ]
  },
  {
   "cell_type": "code",
   "execution_count": 57,
   "metadata": {
    "executionInfo": {
     "elapsed": 429,
     "status": "ok",
     "timestamp": 1620691736666,
     "user": {
      "displayName": "Samantha C",
      "photoUrl": "",
      "userId": "15753314095829738815"
     },
     "user_tz": 240
    },
    "id": "3JxxhjhcgbW7"
   },
   "outputs": [],
   "source": [
    "# Creates a new column that reflects the length or word count of each clean_text stem review\n",
    "reviews_df['clean_text_stem_length'] = reviews_df['clean_text_stem'].map(lambda x: len(x.split(' ')))"
   ]
  },
  {
   "cell_type": "code",
   "execution_count": 58,
   "metadata": {
    "colab": {
     "base_uri": "https://localhost:8080/",
     "height": 564
    },
    "executionInfo": {
     "elapsed": 274,
     "status": "ok",
     "timestamp": 1620691737364,
     "user": {
      "displayName": "Samantha C",
      "photoUrl": "",
      "userId": "15753314095829738815"
     },
     "user_tz": 240
    },
    "id": "tzw7fqVvr-9n",
    "outputId": "06ae4e8c-8dd1-404a-a0e3-9798f3cc2a30"
   },
   "outputs": [
    {
     "data": {
      "text/html": [
       "<div>\n",
       "<style scoped>\n",
       "    .dataframe tbody tr th:only-of-type {\n",
       "        vertical-align: middle;\n",
       "    }\n",
       "\n",
       "    .dataframe tbody tr th {\n",
       "        vertical-align: top;\n",
       "    }\n",
       "\n",
       "    .dataframe thead th {\n",
       "        text-align: right;\n",
       "    }\n",
       "</style>\n",
       "<table border=\"1\" class=\"dataframe\">\n",
       "  <thead>\n",
       "    <tr style=\"text-align: right;\">\n",
       "      <th></th>\n",
       "      <th>business_id</th>\n",
       "      <th>name</th>\n",
       "      <th>review_id</th>\n",
       "      <th>review_stars</th>\n",
       "      <th>text</th>\n",
       "      <th>amb_casual</th>\n",
       "      <th>amb_classy</th>\n",
       "      <th>amb_target</th>\n",
       "      <th>text_length</th>\n",
       "      <th>clean_text</th>\n",
       "      <th>clean_text_length</th>\n",
       "      <th>clean_text_stem</th>\n",
       "      <th>clean_text_stem_length</th>\n",
       "    </tr>\n",
       "  </thead>\n",
       "  <tbody>\n",
       "    <tr>\n",
       "      <th>0</th>\n",
       "      <td>0lCiLKpjrinltPFbBby4sw</td>\n",
       "      <td>The Great Wall Restaurant</td>\n",
       "      <td>wve8w6gIuPpCfo5J--AHjg</td>\n",
       "      <td>3</td>\n",
       "      <td>The menu sounded promising, with over fifty di...</td>\n",
       "      <td>0.0</td>\n",
       "      <td>0.0</td>\n",
       "      <td>0</td>\n",
       "      <td>121</td>\n",
       "      <td>menu sounded promising fifty different dishes ...</td>\n",
       "      <td>68</td>\n",
       "      <td>menu sound promis fifti differ dish differ sty...</td>\n",
       "      <td>66</td>\n",
       "    </tr>\n",
       "    <tr>\n",
       "      <th>1</th>\n",
       "      <td>0lCiLKpjrinltPFbBby4sw</td>\n",
       "      <td>The Great Wall Restaurant</td>\n",
       "      <td>5rFuHGGbimVxPHxgM0sNSA</td>\n",
       "      <td>3</td>\n",
       "      <td>This wasn't the worst Chinese food but it wasn...</td>\n",
       "      <td>0.0</td>\n",
       "      <td>0.0</td>\n",
       "      <td>0</td>\n",
       "      <td>78</td>\n",
       "      <td>wasn' worst chinese food wasn' best egg foo yo...</td>\n",
       "      <td>41</td>\n",
       "      <td>worst chines food best egg foo young dri overc...</td>\n",
       "      <td>39</td>\n",
       "    </tr>\n",
       "    <tr>\n",
       "      <th>2</th>\n",
       "      <td>0lCiLKpjrinltPFbBby4sw</td>\n",
       "      <td>The Great Wall Restaurant</td>\n",
       "      <td>2iD3Rdbw0DUzjZSqBq3hXQ</td>\n",
       "      <td>1</td>\n",
       "      <td>I have been coming to this restaurant for over...</td>\n",
       "      <td>0.0</td>\n",
       "      <td>0.0</td>\n",
       "      <td>0</td>\n",
       "      <td>52</td>\n",
       "      <td>coming restaurant 20 years purchased shrimp fr...</td>\n",
       "      <td>27</td>\n",
       "      <td>come restaur 20 year purchas shrimp fri rice g...</td>\n",
       "      <td>26</td>\n",
       "    </tr>\n",
       "    <tr>\n",
       "      <th>3</th>\n",
       "      <td>0lCiLKpjrinltPFbBby4sw</td>\n",
       "      <td>The Great Wall Restaurant</td>\n",
       "      <td>e61y5ZlNwg04mAGtcD3vbQ</td>\n",
       "      <td>5</td>\n",
       "      <td>My husband and I love this place.\\nGreat price...</td>\n",
       "      <td>0.0</td>\n",
       "      <td>0.0</td>\n",
       "      <td>0</td>\n",
       "      <td>23</td>\n",
       "      <td>husband love place great price lot food make s...</td>\n",
       "      <td>13</td>\n",
       "      <td>husband love place great price lot food make s...</td>\n",
       "      <td>12</td>\n",
       "    </tr>\n",
       "    <tr>\n",
       "      <th>4</th>\n",
       "      <td>kZFTi8FKjs30EuzurZ3v3g</td>\n",
       "      <td>Donerick's Pub</td>\n",
       "      <td>38lN2ONaypsfBDLwhGxcSg</td>\n",
       "      <td>5</td>\n",
       "      <td>Great place for beverages with your friends wh...</td>\n",
       "      <td>0.0</td>\n",
       "      <td>0.0</td>\n",
       "      <td>0</td>\n",
       "      <td>61</td>\n",
       "      <td>great place beverages friends watch game lots ...</td>\n",
       "      <td>43</td>\n",
       "      <td>great place beverag friend watch game lot tv g...</td>\n",
       "      <td>43</td>\n",
       "    </tr>\n",
       "  </tbody>\n",
       "</table>\n",
       "</div>"
      ],
      "text/plain": [
       "              business_id                       name               review_id  \\\n",
       "0  0lCiLKpjrinltPFbBby4sw  The Great Wall Restaurant  wve8w6gIuPpCfo5J--AHjg   \n",
       "1  0lCiLKpjrinltPFbBby4sw  The Great Wall Restaurant  5rFuHGGbimVxPHxgM0sNSA   \n",
       "2  0lCiLKpjrinltPFbBby4sw  The Great Wall Restaurant  2iD3Rdbw0DUzjZSqBq3hXQ   \n",
       "3  0lCiLKpjrinltPFbBby4sw  The Great Wall Restaurant  e61y5ZlNwg04mAGtcD3vbQ   \n",
       "4  kZFTi8FKjs30EuzurZ3v3g             Donerick's Pub  38lN2ONaypsfBDLwhGxcSg   \n",
       "\n",
       "   review_stars                                               text  \\\n",
       "0             3  The menu sounded promising, with over fifty di...   \n",
       "1             3  This wasn't the worst Chinese food but it wasn...   \n",
       "2             1  I have been coming to this restaurant for over...   \n",
       "3             5  My husband and I love this place.\\nGreat price...   \n",
       "4             5  Great place for beverages with your friends wh...   \n",
       "\n",
       "   amb_casual  amb_classy  amb_target  text_length  \\\n",
       "0         0.0         0.0           0          121   \n",
       "1         0.0         0.0           0           78   \n",
       "2         0.0         0.0           0           52   \n",
       "3         0.0         0.0           0           23   \n",
       "4         0.0         0.0           0           61   \n",
       "\n",
       "                                          clean_text  clean_text_length  \\\n",
       "0  menu sounded promising fifty different dishes ...                 68   \n",
       "1  wasn' worst chinese food wasn' best egg foo yo...                 41   \n",
       "2  coming restaurant 20 years purchased shrimp fr...                 27   \n",
       "3  husband love place great price lot food make s...                 13   \n",
       "4  great place beverages friends watch game lots ...                 43   \n",
       "\n",
       "                                     clean_text_stem  clean_text_stem_length  \n",
       "0  menu sound promis fifti differ dish differ sty...                      66  \n",
       "1  worst chines food best egg foo young dri overc...                      39  \n",
       "2  come restaur 20 year purchas shrimp fri rice g...                      26  \n",
       "3  husband love place great price lot food make s...                      12  \n",
       "4  great place beverag friend watch game lot tv g...                      43  "
      ]
     },
     "execution_count": 58,
     "metadata": {},
     "output_type": "execute_result"
    }
   ],
   "source": [
    "reviews_df.head()"
   ]
  },
  {
   "cell_type": "code",
   "execution_count": 59,
   "metadata": {
    "colab": {
     "base_uri": "https://localhost:8080/",
     "height": 280
    },
    "executionInfo": {
     "elapsed": 1014,
     "status": "ok",
     "timestamp": 1620691738970,
     "user": {
      "displayName": "Samantha C",
      "photoUrl": "",
      "userId": "15753314095829738815"
     },
     "user_tz": 240
    },
    "id": "jTCp0MPbqjpZ",
    "outputId": "54ff04ff-4384-41af-86f1-579e4fe77d2b"
   },
   "outputs": [
    {
     "data": {
      "image/png": "[encoded data removed]",
      "text/plain": [
       "<Figure size 432x288 with 1 Axes>"
      ]
     },
     "metadata": {
      "needs_background": "light"
     },
     "output_type": "display_data"
    }
   ],
   "source": [
    "# Displays the distribution of the cleaned, stemmed review word count using a histogram\n",
    "sns.histplot(reviews_df['clean_text_stem_length']);"
   ]
  },
  {
   "cell_type": "markdown",
   "metadata": {
    "id": "MdZCpxtBq_LC"
   },
   "source": [
    "**Interpretation**: After stemming the reviews, the length of the reviews became significantly shorter nad now, a majority of the reviews are below 100 stemmed words/words that give the review meaning.  The graph, however, is still skewed to the right. "
   ]
  },
  {
   "cell_type": "code",
   "execution_count": 60,
   "metadata": {
    "colab": {
     "base_uri": "https://localhost:8080/",
     "height": 280
    },
    "executionInfo": {
     "elapsed": 600,
     "status": "ok",
     "timestamp": 1620691739541,
     "user": {
      "displayName": "Samantha C",
      "photoUrl": "",
      "userId": "15753314095829738815"
     },
     "user_tz": 240
    },
    "id": "uqi-CDHGqroZ",
    "outputId": "b854759a-99c2-4d55-d49f-4dec86d07cde"
   },
   "outputs": [
    {
     "data": {
      "image/png": "[encoded data removed]",
      "text/plain": [
       "<Figure size 432x288 with 1 Axes>"
      ]
     },
     "metadata": {
      "needs_background": "light"
     },
     "output_type": "display_data"
    }
   ],
   "source": [
    "# Displays the distribution of the cleaned, stemmed, review word count using a boxplot \n",
    "sns.boxplot(x=reviews_df['clean_text_stem_length']);"
   ]
  },
  {
   "cell_type": "markdown",
   "metadata": {
    "id": "r3mTt1BEq2-u"
   },
   "source": [
    "**Interpretation**: This boxplot also reflects the observation made earlier showing that a majority of reviews are less than 100 stemmed words, with a significant amount of outliers to the right/right skewed. "
   ]
  },
  {
   "cell_type": "code",
   "execution_count": 61,
   "metadata": {
    "colab": {
     "base_uri": "https://localhost:8080/"
    },
    "executionInfo": {
     "elapsed": 363,
     "status": "ok",
     "timestamp": 1620691742306,
     "user": {
      "displayName": "Samantha C",
      "photoUrl": "",
      "userId": "15753314095829738815"
     },
     "user_tz": 240
    },
    "id": "C7DqCDuDqxoy",
    "outputId": "208b3aaf-3d7c-43a1-8c06-39f32e5b6809"
   },
   "outputs": [
    {
     "data": {
      "text/plain": [
       "count    89347.000000\n",
       "mean        52.365463\n",
       "std         46.539715\n",
       "min          1.000000\n",
       "25%         22.000000\n",
       "50%         38.000000\n",
       "75%         67.000000\n",
       "max        497.000000\n",
       "Name: clean_text_stem_length, dtype: float64"
      ]
     },
     "execution_count": 61,
     "metadata": {},
     "output_type": "execute_result"
    }
   ],
   "source": [
    "# Looks at the distribution of the cleaned, stemmed word count through summary statistics\n",
    "reviews_df['clean_text_stem_length'].describe()"
   ]
  },
  {
   "cell_type": "markdown",
   "metadata": {
    "id": "p1zEVZ8qq5p-"
   },
   "source": [
    "**Interpretation**: After stemming the words, the average amount of stemmed words in each review is about 52 stemmed words.  The minimum number of words is still 1, which again, will probably lead to dropping rows that have very few words. "
   ]
  },
  {
   "cell_type": "code",
   "execution_count": 62,
   "metadata": {
    "colab": {
     "base_uri": "https://localhost:8080/"
    },
    "executionInfo": {
     "elapsed": 314,
     "status": "ok",
     "timestamp": 1620691744969,
     "user": {
      "displayName": "Samantha C",
      "photoUrl": "",
      "userId": "15753314095829738815"
     },
     "user_tz": 240
    },
    "id": "amd-hAK2ss1D",
    "outputId": "d3ca4828-f5d7-49bb-e86c-c085267be1d6"
   },
   "outputs": [
    {
     "data": {
      "text/plain": [
       "business_id               0\n",
       "name                      0\n",
       "review_id                 0\n",
       "review_stars              0\n",
       "text                      0\n",
       "amb_casual                0\n",
       "amb_classy                0\n",
       "amb_target                0\n",
       "text_length               0\n",
       "clean_text                0\n",
       "clean_text_length         0\n",
       "clean_text_stem           0\n",
       "clean_text_stem_length    0\n",
       "dtype: int64"
      ]
     },
     "execution_count": 62,
     "metadata": {},
     "output_type": "execute_result"
    }
   ],
   "source": [
    "# Checks the number of nulls \n",
    "reviews_df.isnull().sum()"
   ]
  },
  {
   "cell_type": "code",
   "execution_count": 63,
   "metadata": {
    "executionInfo": {
     "elapsed": 268,
     "status": "ok",
     "timestamp": 1620691754027,
     "user": {
      "displayName": "Samantha C",
      "photoUrl": "",
      "userId": "15753314095829738815"
     },
     "user_tz": 240
    },
    "id": "ZQj50p8EswdK"
   },
   "outputs": [],
   "source": [
    "# Keeps only those reviews that have more than 10 words\n",
    "reviews_df = reviews_df[reviews_df['clean_text_stem_length'] > 10]"
   ]
  },
  {
   "cell_type": "code",
   "execution_count": 64,
   "metadata": {
    "colab": {
     "base_uri": "https://localhost:8080/"
    },
    "executionInfo": {
     "elapsed": 258,
     "status": "ok",
     "timestamp": 1620691754941,
     "user": {
      "displayName": "Samantha C",
      "photoUrl": "",
      "userId": "15753314095829738815"
     },
     "user_tz": 240
    },
    "id": "yM9MkMVbtDAy",
    "outputId": "05b49469-c55b-4d7c-9de0-23eb9e820fa0"
   },
   "outputs": [
    {
     "data": {
      "text/plain": [
       "(86189, 13)"
      ]
     },
     "execution_count": 64,
     "metadata": {},
     "output_type": "execute_result"
    }
   ],
   "source": [
    "# Checks the shape of the dataframe \n",
    "reviews_df.shape"
   ]
  },
  {
   "cell_type": "code",
   "execution_count": 65,
   "metadata": {},
   "outputs": [],
   "source": [
    "# Saves reviews_df as a csv file\n",
    "reviews_df.to_csv('../Data/reviews_stemmed.csv', index=False)"
   ]
  },
  {
   "cell_type": "markdown",
   "metadata": {},
   "source": [
    "#### Randomly Sampling 50% of the majority class (amb_target == 1) / when a restaurant is casual only"
   ]
  },
  {
   "cell_type": "code",
   "execution_count": 7,
   "metadata": {},
   "outputs": [],
   "source": [
    "# Loads the saved data\n",
    "df = pd.read_csv('../Data/reviews_stemmed.csv')"
   ]
  },
  {
   "cell_type": "code",
   "execution_count": 8,
   "metadata": {},
   "outputs": [
    {
     "data": {
      "text/plain": [
       "(86189, 13)"
      ]
     },
     "execution_count": 8,
     "metadata": {},
     "output_type": "execute_result"
    }
   ],
   "source": [
    "df.shape"
   ]
  },
  {
   "cell_type": "code",
   "execution_count": 68,
   "metadata": {},
   "outputs": [
    {
     "data": {
      "text/plain": [
       "1    42644\n",
       "3    18157\n",
       "2    13453\n",
       "0    11935\n",
       "Name: amb_target, dtype: int64"
      ]
     },
     "execution_count": 68,
     "metadata": {},
     "output_type": "execute_result"
    }
   ],
   "source": [
    "df['amb_target'].value_counts()"
   ]
  },
  {
   "cell_type": "code",
   "execution_count": 69,
   "metadata": {},
   "outputs": [],
   "source": [
    "# Separates the dataframe into 'only casual' vs. 'everything but causal only'\n",
    "casual_only_df = df[df['amb_target'] == 1]\n",
    "other_df = df[df['amb_target'] != 1]"
   ]
  },
  {
   "cell_type": "code",
   "execution_count": 70,
   "metadata": {},
   "outputs": [
    {
     "data": {
      "text/plain": [
       "(42644, 13)"
      ]
     },
     "execution_count": 70,
     "metadata": {},
     "output_type": "execute_result"
    }
   ],
   "source": [
    "casual_only_df.shape"
   ]
  },
  {
   "cell_type": "code",
   "execution_count": 71,
   "metadata": {},
   "outputs": [],
   "source": [
    "# Samples 50% of the casual only df\n",
    "casual_only_df = casual_only_df.sample(frac=0.50)"
   ]
  },
  {
   "cell_type": "code",
   "execution_count": 72,
   "metadata": {},
   "outputs": [
    {
     "data": {
      "text/plain": [
       "(21322, 13)"
      ]
     },
     "execution_count": 72,
     "metadata": {},
     "output_type": "execute_result"
    }
   ],
   "source": [
    "casual_only_df.shape"
   ]
  },
  {
   "cell_type": "code",
   "execution_count": 73,
   "metadata": {},
   "outputs": [],
   "source": [
    "# Concatenates the undersampled casual only df with the 'everything but casual only' df\n",
    "new_df = pd.concat([casual_only_df, other_df])"
   ]
  },
  {
   "cell_type": "code",
   "execution_count": 74,
   "metadata": {},
   "outputs": [],
   "source": [
    "# Sorts the dataframe by original index\n",
    "new_df.sort_index(inplace=True)"
   ]
  },
  {
   "cell_type": "code",
   "execution_count": 75,
   "metadata": {},
   "outputs": [
    {
     "data": {
      "text/plain": [
       "(64867, 13)"
      ]
     },
     "execution_count": 75,
     "metadata": {},
     "output_type": "execute_result"
    }
   ],
   "source": [
    "new_df.shape"
   ]
  },
  {
   "cell_type": "code",
   "execution_count": 76,
   "metadata": {},
   "outputs": [
    {
     "data": {
      "text/plain": [
       "1    0.328703\n",
       "3    0.279911\n",
       "2    0.207394\n",
       "0    0.183992\n",
       "Name: amb_target, dtype: float64"
      ]
     },
     "execution_count": 76,
     "metadata": {},
     "output_type": "execute_result"
    }
   ],
   "source": [
    "new_df['amb_target'].value_counts(normalize=True)"
   ]
  },
  {
   "cell_type": "code",
   "execution_count": 77,
   "metadata": {},
   "outputs": [],
   "source": [
    "new_df.to_csv('../Data/reviews_stemmed_balanced.csv', index=False)"
   ]
  },
  {
   "cell_type": "markdown",
   "metadata": {
    "id": "kORZVuqPnFeH"
   },
   "source": [
    "### EDA with TfidfVectorizing Stemmed Text"
   ]
  },
  {
   "cell_type": "code",
   "execution_count": 78,
   "metadata": {
    "executionInfo": {
     "elapsed": 317,
     "status": "ok",
     "timestamp": 1620691756939,
     "user": {
      "displayName": "Samantha C",
      "photoUrl": "",
      "userId": "15753314095829738815"
     },
     "user_tz": 240
    },
    "id": "qbTHOl2_nMMl"
   },
   "outputs": [],
   "source": [
    "# Renames and makes a copy of the reviews_df\n",
    "df = reviews_df.copy()"
   ]
  },
  {
   "cell_type": "code",
   "execution_count": 79,
   "metadata": {
    "colab": {
     "base_uri": "https://localhost:8080/"
    },
    "executionInfo": {
     "elapsed": 254,
     "status": "ok",
     "timestamp": 1620691757808,
     "user": {
      "displayName": "Samantha C",
      "photoUrl": "",
      "userId": "15753314095829738815"
     },
     "user_tz": 240
    },
    "id": "oxk3Ydjlo-3q",
    "outputId": "abeaa071-a363-4b53-e218-520ad47cb6be"
   },
   "outputs": [
    {
     "data": {
      "text/plain": [
       "dtype('int64')"
      ]
     },
     "execution_count": 79,
     "metadata": {},
     "output_type": "execute_result"
    }
   ],
   "source": [
    "# Checks the target data type\n",
    "df['amb_target'].dtype"
   ]
  },
  {
   "cell_type": "code",
   "execution_count": 80,
   "metadata": {},
   "outputs": [],
   "source": [
    "# Creates different dataframes based on target class\n",
    "neither_amb = df[df['amb_target'] == 0].copy()\n",
    "casual_amb = df[df['amb_target'] == 1].copy()\n",
    "classy_amb = df[df['amb_target'] == 2].copy()\n",
    "both_amb = df[df['amb_target'] == 3].copy()"
   ]
  },
  {
   "cell_type": "code",
   "execution_count": 81,
   "metadata": {},
   "outputs": [],
   "source": [
    "# Instantiates TfidfVectorizer with default hyperparameters\n",
    "tvec = TfidfVectorizer()"
   ]
  },
  {
   "cell_type": "code",
   "execution_count": 82,
   "metadata": {},
   "outputs": [],
   "source": [
    "# Defines the X for each dataframe \n",
    "X_neither = neither_amb['clean_text_stem']\n",
    "X_casual = casual_amb['clean_text_stem']\n",
    "X_classy = classy_amb['clean_text_stem']\n",
    "X_both = both_amb['clean_text_stem']"
   ]
  },
  {
   "cell_type": "markdown",
   "metadata": {},
   "source": [
    "#### Most common words for restaurants that are neither casual nor classy"
   ]
  },
  {
   "cell_type": "code",
   "execution_count": 83,
   "metadata": {},
   "outputs": [
    {
     "data": {
      "image/png": "[encoded data removed]",
      "text/plain": [
       "<Figure size 432x288 with 1 Axes>"
      ]
     },
     "metadata": {
      "needs_background": "light"
     },
     "output_type": "display_data"
    }
   ],
   "source": [
    "# Fits and transforms the vectorizer on corpus\n",
    "X_neither = tvec.fit_transform(X_neither)\n",
    "\n",
    "# Turns it into a dataframe\n",
    "X_neither_df = pd.DataFrame(X_neither.toarray(), columns=tvec.get_feature_names())\n",
    "\n",
    "# plots top occurring words for restaurants that are neither casual nor classy\n",
    "common_stem_words = X_neither_df.sum().sort_values(ascending=False).head(20).plot(kind='barh')\n",
    "common_stem_words;"
   ]
  },
  {
   "cell_type": "markdown",
   "metadata": {},
   "source": [
    "#### Most common words for restaurants that are casual only"
   ]
  },
  {
   "cell_type": "code",
   "execution_count": 84,
   "metadata": {},
   "outputs": [
    {
     "data": {
      "image/png": "[encoded data removed]",
      "text/plain": [
       "<Figure size 432x288 with 1 Axes>"
      ]
     },
     "metadata": {
      "needs_background": "light"
     },
     "output_type": "display_data"
    }
   ],
   "source": [
    "# Fits and transforms the vectorizer on corpus\n",
    "X_casual = tvec.fit_transform(X_casual)\n",
    "\n",
    "# Turns it into a dataframe\n",
    "X_casual_df = pd.DataFrame(X_casual.toarray(), columns=tvec.get_feature_names())\n",
    "\n",
    "# plots top occurring words for restaurants that are neither casual nor classy\n",
    "common_stem_words = X_casual_df.sum().sort_values(ascending=False).head(20).plot(kind='barh')\n",
    "common_stem_words;"
   ]
  },
  {
   "cell_type": "markdown",
   "metadata": {},
   "source": [
    "#### Most common words for restaurants that are classy only"
   ]
  },
  {
   "cell_type": "code",
   "execution_count": 85,
   "metadata": {},
   "outputs": [
    {
     "data": {
      "image/png": "[encoded data removed]",
      "text/plain": [
       "<Figure size 432x288 with 1 Axes>"
      ]
     },
     "metadata": {
      "needs_background": "light"
     },
     "output_type": "display_data"
    }
   ],
   "source": [
    "# Fits and transforms the vectorizer on corpus\n",
    "X_classy = tvec.fit_transform(X_classy)\n",
    "\n",
    "# Turns it into a dataframe\n",
    "X_classy_df = pd.DataFrame(X_classy.toarray(), columns=tvec.get_feature_names())\n",
    "\n",
    "# plots top occurring words for restaurants that are neither casual nor classy\n",
    "common_stem_words = X_classy_df.sum().sort_values(ascending=False).head(20).plot(kind='barh')\n",
    "common_stem_words;"
   ]
  },
  {
   "cell_type": "markdown",
   "metadata": {},
   "source": [
    "#### Most common words for restaurants that are both casual and classy"
   ]
  },
  {
   "cell_type": "code",
   "execution_count": 86,
   "metadata": {},
   "outputs": [
    {
     "data": {
      "image/png": "[encoded data removed]",
      "text/plain": [
       "<Figure size 432x288 with 1 Axes>"
      ]
     },
     "metadata": {
      "needs_background": "light"
     },
     "output_type": "display_data"
    }
   ],
   "source": [
    "# Fits and transforms the vectorizer on corpus\n",
    "X_both = tvec.fit_transform(X_both)\n",
    "\n",
    "# Turns it into a dataframe\n",
    "X_both_df = pd.DataFrame(X_both.toarray(), columns=tvec.get_feature_names())\n",
    "\n",
    "# plots top occurring words for restaurants that are neither casual nor classy\n",
    "common_stem_words = X_both_df.sum().sort_values(ascending=False).head(20).plot(kind='barh')\n",
    "common_stem_words;"
   ]
  },
  {
   "cell_type": "code",
   "execution_count": null,
   "metadata": {},
   "outputs": [],
   "source": []
  }
 ],
 "metadata": {
  "accelerator": "GPU",
  "colab": {
   "collapsed_sections": [],
   "name": "nlp_eda_cleaning_reviews.ipynb",
   "provenance": []
  },
  "environment": {
   "name": "tf2-gpu.2-4.m65",
   "type": "gcloud",
   "uri": "gcr.io/deeplearning-platform-release/tf2-gpu.2-4:m65"
  },
  "kernelspec": {
   "display_name": "Python 3",
   "language": "python",
   "name": "python3"
  },
  "language_info": {
   "codemirror_mode": {
    "name": "ipython",
    "version": 3
   },
   "file_extension": ".py",
   "mimetype": "text/x-python",
   "name": "python",
   "nbconvert_exporter": "python",
   "pygments_lexer": "ipython3",
   "version": "3.8.5"
  }
 },
 "nbformat": 4,
 "nbformat_minor": 5
}
