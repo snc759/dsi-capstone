{
 "cells": [
  {
   "cell_type": "markdown",
   "metadata": {},
   "source": [
    "## Modeling a Multi-Class Prediction with Stemmed Yelp Reviews"
   ]
  },
  {
   "cell_type": "code",
   "execution_count": 1,
   "metadata": {},
   "outputs": [],
   "source": [
    "# imports libraries\n",
    "import numpy as np\n",
    "import pandas as pd\n",
    "import matplotlib.pyplot as plt\n",
    "import seaborn as sns\n",
    "\n",
    "## week 3 imports\n",
    "import missingno as msno     \n",
    "import statsmodels.api as sm\n",
    "from statsmodels.formula.api import ols\n",
    "\n",
    "# Linear and general modeling imports\n",
    "from sklearn.linear_model import LinearRegression, Ridge, Lasso, ElasticNet, RidgeCV, LassoCV, ElasticNetCV\n",
    "from sklearn.model_selection import train_test_split, cross_val_score, cross_validate, GridSearchCV, RandomizedSearchCV\n",
    "from sklearn.metrics import mean_squared_error, r2_score\n",
    "\n",
    "# Feature Engineering\n",
    "from sklearn.preprocessing import StandardScaler, PolynomialFeatures   # Scale/transform/feature engineering\n",
    "from sklearn.experimental import enable_iterative_imputer\n",
    "from sklearn.impute import SimpleImputer, KNNImputer, IterativeImputer\n",
    "# imports mice\n",
    "# from impyute.imputation.cs import mice\n",
    "\n",
    "import patsy\n",
    "# y, X = patsy.dmatrices(formula, data=diamonds, return_type='dataframe')\n",
    "\n",
    "# GridSearch and Hyperparameter Tuning\n",
    "# from sklearn.model_selection import GridSearchCV, RandomizedSearchCV\n",
    "from sklearn.pipeline import Pipeline, make_pipeline\n",
    "\n",
    "# Logistic and Classification metrics\n",
    "from sklearn.linear_model import LogisticRegression\n",
    "# from sklearn.model_selection import train_test_split, cross_val_score, GridSearchCV, RandomizedSearchCV\n",
    "from sklearn.metrics import confusion_matrix, ConfusionMatrixDisplay, accuracy_score, plot_roc_curve, roc_auc_score, recall_score, precision_score, f1_score, classification_report\n",
    "\n",
    "# K Nearest Neighbors\n",
    "from sklearn.neighbors import KNeighborsClassifier, KNeighborsRegressor\n",
    "# from sklearn.model_selection import train_test_split, cross_val_score\n",
    "# from sklearn.preprocessing import StandardScaler\n",
    "\n",
    "# naive bayes imports\n",
    "from sklearn.naive_bayes import MultinomialNB, BernoulliNB\n",
    "\n",
    "# SVMs\n",
    "from sklearn.svm import LinearSVC, SVC\n",
    "\n",
    "# Decision Trees\n",
    "from sklearn.tree import DecisionTreeClassifier, plot_tree, export_text\n",
    "\n",
    "# Import Bagging, Boosting, and Random Forests, and ExtraTrees (Extremely Randomized Trees)\n",
    "from sklearn.ensemble import BaggingClassifier, BaggingRegressor, AdaBoostClassifier, AdaBoostRegressor, RandomForestClassifier, RandomForestRegressor, ExtraTreesClassifier, ExtraTreesRegressor\n",
    "\n",
    "# NLP imports\n",
    "from sklearn.feature_extraction.text import CountVectorizer, TfidfVectorizer\n",
    "import nltk\n",
    "# nltk.download() #  --> Download all, and then restart jupyter lab\n",
    "from nltk.tokenize import sent_tokenize, word_tokenize, RegexpTokenizer\n",
    "from nltk.stem import WordNetLemmatizer\n",
    "from nltk.stem.porter import PorterStemmer\n",
    "from nltk.corpus import stopwords\n",
    "from nltk.sentiment.vader import SentimentIntensityAnalyzer\n",
    "from nltk import FreqDist, pos_tag\n",
    "import re\n",
    "\n",
    "import json\n",
    "\n",
    "\n",
    "%matplotlib inline\n",
    "%config InlineBackend.figure_format = 'retina'"
   ]
  },
  {
   "cell_type": "markdown",
   "metadata": {},
   "source": [
    "### Loading the Data and Splitting Data"
   ]
  },
  {
   "cell_type": "code",
   "execution_count": 2,
   "metadata": {},
   "outputs": [],
   "source": [
    "# Loads the data\n",
    "df = pd.read_csv('../../Data/reviews_stemmed.csv')"
   ]
  },
  {
   "cell_type": "code",
   "execution_count": 3,
   "metadata": {},
   "outputs": [
    {
     "data": {
      "text/html": [
       "<div>\n",
       "<style scoped>\n",
       "    .dataframe tbody tr th:only-of-type {\n",
       "        vertical-align: middle;\n",
       "    }\n",
       "\n",
       "    .dataframe tbody tr th {\n",
       "        vertical-align: top;\n",
       "    }\n",
       "\n",
       "    .dataframe thead th {\n",
       "        text-align: right;\n",
       "    }\n",
       "</style>\n",
       "<table border=\"1\" class=\"dataframe\">\n",
       "  <thead>\n",
       "    <tr style=\"text-align: right;\">\n",
       "      <th></th>\n",
       "      <th>business_id</th>\n",
       "      <th>name</th>\n",
       "      <th>review_id</th>\n",
       "      <th>review_stars</th>\n",
       "      <th>text</th>\n",
       "      <th>amb_casual</th>\n",
       "      <th>amb_classy</th>\n",
       "      <th>amb_target</th>\n",
       "      <th>text_length</th>\n",
       "      <th>clean_text</th>\n",
       "      <th>clean_text_length</th>\n",
       "      <th>clean_text_stem</th>\n",
       "      <th>clean_text_stem_length</th>\n",
       "    </tr>\n",
       "  </thead>\n",
       "  <tbody>\n",
       "    <tr>\n",
       "      <th>0</th>\n",
       "      <td>0lCiLKpjrinltPFbBby4sw</td>\n",
       "      <td>The Great Wall Restaurant</td>\n",
       "      <td>wve8w6gIuPpCfo5J--AHjg</td>\n",
       "      <td>3</td>\n",
       "      <td>The menu sounded promising, with over fifty di...</td>\n",
       "      <td>0.0</td>\n",
       "      <td>0.0</td>\n",
       "      <td>0</td>\n",
       "      <td>121</td>\n",
       "      <td>menu sounded promising fifty different dishes ...</td>\n",
       "      <td>68</td>\n",
       "      <td>menu sound promis fifti differ dish differ sty...</td>\n",
       "      <td>66</td>\n",
       "    </tr>\n",
       "    <tr>\n",
       "      <th>1</th>\n",
       "      <td>0lCiLKpjrinltPFbBby4sw</td>\n",
       "      <td>The Great Wall Restaurant</td>\n",
       "      <td>5rFuHGGbimVxPHxgM0sNSA</td>\n",
       "      <td>3</td>\n",
       "      <td>This wasn't the worst Chinese food but it wasn...</td>\n",
       "      <td>0.0</td>\n",
       "      <td>0.0</td>\n",
       "      <td>0</td>\n",
       "      <td>78</td>\n",
       "      <td>wasn' worst chinese food wasn' best egg foo yo...</td>\n",
       "      <td>41</td>\n",
       "      <td>worst chines food best egg foo young dri overc...</td>\n",
       "      <td>39</td>\n",
       "    </tr>\n",
       "    <tr>\n",
       "      <th>2</th>\n",
       "      <td>0lCiLKpjrinltPFbBby4sw</td>\n",
       "      <td>The Great Wall Restaurant</td>\n",
       "      <td>2iD3Rdbw0DUzjZSqBq3hXQ</td>\n",
       "      <td>1</td>\n",
       "      <td>I have been coming to this restaurant for over...</td>\n",
       "      <td>0.0</td>\n",
       "      <td>0.0</td>\n",
       "      <td>0</td>\n",
       "      <td>52</td>\n",
       "      <td>coming restaurant 20 years purchased shrimp fr...</td>\n",
       "      <td>27</td>\n",
       "      <td>come restaur 20 year purchas shrimp fri rice g...</td>\n",
       "      <td>26</td>\n",
       "    </tr>\n",
       "    <tr>\n",
       "      <th>3</th>\n",
       "      <td>0lCiLKpjrinltPFbBby4sw</td>\n",
       "      <td>The Great Wall Restaurant</td>\n",
       "      <td>e61y5ZlNwg04mAGtcD3vbQ</td>\n",
       "      <td>5</td>\n",
       "      <td>My husband and I love this place.\\nGreat price...</td>\n",
       "      <td>0.0</td>\n",
       "      <td>0.0</td>\n",
       "      <td>0</td>\n",
       "      <td>23</td>\n",
       "      <td>husband love place great price lot food make s...</td>\n",
       "      <td>13</td>\n",
       "      <td>husband love place great price lot food make s...</td>\n",
       "      <td>12</td>\n",
       "    </tr>\n",
       "    <tr>\n",
       "      <th>4</th>\n",
       "      <td>kZFTi8FKjs30EuzurZ3v3g</td>\n",
       "      <td>Donerick's Pub</td>\n",
       "      <td>38lN2ONaypsfBDLwhGxcSg</td>\n",
       "      <td>5</td>\n",
       "      <td>Great place for beverages with your friends wh...</td>\n",
       "      <td>0.0</td>\n",
       "      <td>0.0</td>\n",
       "      <td>0</td>\n",
       "      <td>61</td>\n",
       "      <td>great place beverages friends watch game lots ...</td>\n",
       "      <td>43</td>\n",
       "      <td>great place beverag friend watch game lot tv g...</td>\n",
       "      <td>43</td>\n",
       "    </tr>\n",
       "  </tbody>\n",
       "</table>\n",
       "</div>"
      ],
      "text/plain": [
       "              business_id                       name               review_id  \\\n",
       "0  0lCiLKpjrinltPFbBby4sw  The Great Wall Restaurant  wve8w6gIuPpCfo5J--AHjg   \n",
       "1  0lCiLKpjrinltPFbBby4sw  The Great Wall Restaurant  5rFuHGGbimVxPHxgM0sNSA   \n",
       "2  0lCiLKpjrinltPFbBby4sw  The Great Wall Restaurant  2iD3Rdbw0DUzjZSqBq3hXQ   \n",
       "3  0lCiLKpjrinltPFbBby4sw  The Great Wall Restaurant  e61y5ZlNwg04mAGtcD3vbQ   \n",
       "4  kZFTi8FKjs30EuzurZ3v3g             Donerick's Pub  38lN2ONaypsfBDLwhGxcSg   \n",
       "\n",
       "   review_stars                                               text  \\\n",
       "0             3  The menu sounded promising, with over fifty di...   \n",
       "1             3  This wasn't the worst Chinese food but it wasn...   \n",
       "2             1  I have been coming to this restaurant for over...   \n",
       "3             5  My husband and I love this place.\\nGreat price...   \n",
       "4             5  Great place for beverages with your friends wh...   \n",
       "\n",
       "   amb_casual  amb_classy  amb_target  text_length  \\\n",
       "0         0.0         0.0           0          121   \n",
       "1         0.0         0.0           0           78   \n",
       "2         0.0         0.0           0           52   \n",
       "3         0.0         0.0           0           23   \n",
       "4         0.0         0.0           0           61   \n",
       "\n",
       "                                          clean_text  clean_text_length  \\\n",
       "0  menu sounded promising fifty different dishes ...                 68   \n",
       "1  wasn' worst chinese food wasn' best egg foo yo...                 41   \n",
       "2  coming restaurant 20 years purchased shrimp fr...                 27   \n",
       "3  husband love place great price lot food make s...                 13   \n",
       "4  great place beverages friends watch game lots ...                 43   \n",
       "\n",
       "                                     clean_text_stem  clean_text_stem_length  \n",
       "0  menu sound promis fifti differ dish differ sty...                      66  \n",
       "1  worst chines food best egg foo young dri overc...                      39  \n",
       "2  come restaur 20 year purchas shrimp fri rice g...                      26  \n",
       "3  husband love place great price lot food make s...                      12  \n",
       "4  great place beverag friend watch game lot tv g...                      43  "
      ]
     },
     "execution_count": 3,
     "metadata": {},
     "output_type": "execute_result"
    }
   ],
   "source": [
    "df.head()"
   ]
  },
  {
   "cell_type": "code",
   "execution_count": 76,
   "metadata": {},
   "outputs": [
    {
     "data": {
      "text/plain": [
       "1    0.494773\n",
       "3    0.210665\n",
       "2    0.156087\n",
       "0    0.138475\n",
       "Name: amb_target, dtype: float64"
      ]
     },
     "execution_count": 76,
     "metadata": {},
     "output_type": "execute_result"
    }
   ],
   "source": [
    "# Checks the baseline\n",
    "df['amb_target'].value_counts(normalize=True)"
   ]
  },
  {
   "cell_type": "code",
   "execution_count": 77,
   "metadata": {},
   "outputs": [],
   "source": [
    "# Takes a small sample of the data to test modeling on\n",
    "df_sample = df.sample(150, random_state=42)"
   ]
  },
  {
   "cell_type": "code",
   "execution_count": 78,
   "metadata": {},
   "outputs": [],
   "source": [
    "# Sets up X and y\n",
    "X = df_sample['clean_text_stem']\n",
    "y = df_sample['amb_target']"
   ]
  },
  {
   "cell_type": "code",
   "execution_count": 79,
   "metadata": {},
   "outputs": [],
   "source": [
    "# Splits the data into training and test sets from sample\n",
    "X_train, X_test, y_train, y_test = train_test_split(X, y,\n",
    "                                                    stratify=y, \n",
    "                                                    random_state=42)"
   ]
  },
  {
   "cell_type": "code",
   "execution_count": 80,
   "metadata": {},
   "outputs": [],
   "source": [
    "# Instantiantes TfidfVectorizer\n",
    "tvec = TfidfVectorizer()"
   ]
  },
  {
   "cell_type": "code",
   "execution_count": 81,
   "metadata": {},
   "outputs": [],
   "source": [
    "# Fits and transforms the vectorizer on our corpus\n",
    "X_train = tvec.fit_transform(X_train)\n",
    "X_test = tvec.transform(X_test)\n",
    "\n",
    "# Turns it into a dataframe\n",
    "X_train_df = pd.DataFrame(X_train.toarray(), columns=tvec.get_feature_names())\n",
    "X_test_df = pd.DataFrame(X_test.toarray(), columns=tvec.get_feature_names())"
   ]
  },
  {
   "cell_type": "markdown",
   "metadata": {},
   "source": [
    "### Modeling - with all classifiers"
   ]
  },
  {
   "cell_type": "code",
   "execution_count": 82,
   "metadata": {},
   "outputs": [
    {
     "data": {
      "text/plain": [
       "1    0.447368\n",
       "3    0.210526\n",
       "2    0.184211\n",
       "0    0.157895\n",
       "Name: amb_target, dtype: float64"
      ]
     },
     "execution_count": 82,
     "metadata": {},
     "output_type": "execute_result"
    }
   ],
   "source": [
    "# Baseline accuracy\n",
    "y_test.value_counts(normalize=True)"
   ]
  },
  {
   "cell_type": "code",
   "execution_count": 83,
   "metadata": {},
   "outputs": [],
   "source": [
    "# Instantiates classifier models\n",
    "tree = DecisionTreeClassifier(random_state=42)\n",
    "tree_pruned = DecisionTreeClassifier(max_depth=5,  \n",
    "                                     random_state=42)\n",
    "svc = SVC(random_state=42)\n",
    "bagging = BaggingClassifier(random_state=42, \n",
    "                            n_estimators=100)\n",
    "rf = RandomForestClassifier(random_state=42)\n",
    "rf_pruned = RandomForestClassifier(max_depth=5,\n",
    "                                   random_state=42)\n",
    "boost = AdaBoostClassifier(n_estimators=100, \n",
    "                           random_state=42)"
   ]
  },
  {
   "cell_type": "code",
   "execution_count": 84,
   "metadata": {},
   "outputs": [],
   "source": [
    "# Creates a list of classifiers\n",
    "class_list = [tree, tree_pruned, svc, bagging, rf, rf_pruned, boost]"
   ]
  },
  {
   "cell_type": "code",
   "execution_count": 85,
   "metadata": {},
   "outputs": [],
   "source": [
    "# Final full classification function\n",
    "def modeling_class(class_list, X=None, y=None, use_split_data=False, standard_scale=False, X_train=None, X_test=None, y_train=None, y_test=None):\n",
    "    import pandas as pd\n",
    "    from sklearn.metrics import confusion_matrix, ConfusionMatrixDisplay, accuracy_score, plot_roc_curve, roc_auc_score, recall_score, precision_score, f1_score, classification_report\n",
    "    \n",
    "    if not use_split_data:\n",
    "    \n",
    "        try:\n",
    "            # train-test-split\n",
    "            X_train, X_test, y_train, y_test = train_test_split(X, y,\n",
    "                                                                stratify=y,\n",
    "                                                                random_state=42)\n",
    "            if standard_scale:\n",
    "                sc = StandardScaler()\n",
    "                X_train_sc = sc.fit_transform(X_train)\n",
    "                X_test_sc = sc.transform(X_test)\n",
    "                X_train = pd.DataFrame(X_train_sc, columns=X.columns)\n",
    "                X_test = pd.DataFrame(X_test_sc, columns=X.columns)\n",
    "                print('Used standard scale')\n",
    "        except: \n",
    "            return 'You need to set \"use_split_data\"=True if you want to pass already train-test split X and y'\n",
    "    \n",
    "    train_acc = []\n",
    "    test_acc = []\n",
    "    train_auc = []\n",
    "    test_auc = []\n",
    "    f1_train = []\n",
    "    f1_test = []\n",
    "\n",
    "    # for each classifier fit and score\n",
    "    for classifier in class_list:\n",
    "        classifier.fit(X_train, y_train)\n",
    "        train_acc.append(classifier.score(X_train, y_train))\n",
    "        test_acc.append(classifier.score(X_test, y_test))\n",
    "#         train_auc.append(roc_auc_score(y_true=y_train, y_score=classifier.predict(X_train), multi_class='ovo'))\n",
    "#         test_auc.append(roc_auc_score(y_true=y_test, y_score=classifier.predict(X_test), multi_class='ovo'))\n",
    "        f1_train.append(f1_score(y_train, classifier.predict(X_train), average='micro'))\n",
    "        f1_test.append(f1_score(y_test, classifier.predict(X_test), average='micro'))\n",
    "    # combine into dataframe\n",
    "    dict_of_list_df = pd.DataFrame({'train_acc': train_acc,\n",
    "                                    'test_acc': test_acc,\n",
    "#                                     'train_auc': train_auc,\n",
    "#                                     'test_auc': test_auc, \n",
    "                                    'f1_train': f1_train,\n",
    "                                    'f1_test': f1_test},\n",
    "                                    index=[str(cl) for cl in class_list])\n",
    "\n",
    "    ####################\n",
    "\n",
    "#     list_of_dicts = []\n",
    "#     for classifier in class_list:\n",
    "#         metrics_dict = {}\n",
    "\n",
    "#         classifier.fit(X_train, y_train)\n",
    "#         metrics_dict['train_acc'] = classifier.score(X_train, y_train)\n",
    "#         metrics_dict['test_acc'] = classifier.score(X_test, y_test)\n",
    "#         metrics_dict['train_auc'] = roc_auc_score(y_true=y_train, y_score=classifier.predict(X_train))\n",
    "#         metrics_dict['test_auc'] = roc_auc_score(y_true=y_test, y_score=classifier.predict(X_test))\n",
    "#         metrics_dict['f1_train'] = f1_score(y_train, classifier.predict(X_train))\n",
    "#         metrics_dict['f1_test'] = f1_score(y_test, classifier.predict(X_test))\n",
    "\n",
    "            \n",
    "\n",
    "#         list_of_dicts.append(metrics_dict)\n",
    "\n",
    "#     list_of_dicts_df = pd.DataFrame(list_of_dicts,\n",
    "#                                     index=[str(cl) for cl in class_list])\n",
    "    \n",
    "    return dict_of_list_df#, list_of_dicts_df"
   ]
  },
  {
   "cell_type": "code",
   "execution_count": 86,
   "metadata": {},
   "outputs": [
    {
     "data": {
      "text/html": [
       "<div>\n",
       "<style scoped>\n",
       "    .dataframe tbody tr th:only-of-type {\n",
       "        vertical-align: middle;\n",
       "    }\n",
       "\n",
       "    .dataframe tbody tr th {\n",
       "        vertical-align: top;\n",
       "    }\n",
       "\n",
       "    .dataframe thead th {\n",
       "        text-align: right;\n",
       "    }\n",
       "</style>\n",
       "<table border=\"1\" class=\"dataframe\">\n",
       "  <thead>\n",
       "    <tr style=\"text-align: right;\">\n",
       "      <th></th>\n",
       "      <th>train_acc</th>\n",
       "      <th>test_acc</th>\n",
       "      <th>f1_train</th>\n",
       "      <th>f1_test</th>\n",
       "    </tr>\n",
       "  </thead>\n",
       "  <tbody>\n",
       "    <tr>\n",
       "      <th>DecisionTreeClassifier(random_state=42)</th>\n",
       "      <td>1.000000</td>\n",
       "      <td>0.394737</td>\n",
       "      <td>1.000000</td>\n",
       "      <td>0.394737</td>\n",
       "    </tr>\n",
       "    <tr>\n",
       "      <th>DecisionTreeClassifier(max_depth=5, random_state=42)</th>\n",
       "      <td>0.642857</td>\n",
       "      <td>0.447368</td>\n",
       "      <td>0.642857</td>\n",
       "      <td>0.447368</td>\n",
       "    </tr>\n",
       "    <tr>\n",
       "      <th>SVC(random_state=42)</th>\n",
       "      <td>1.000000</td>\n",
       "      <td>0.447368</td>\n",
       "      <td>1.000000</td>\n",
       "      <td>0.447368</td>\n",
       "    </tr>\n",
       "    <tr>\n",
       "      <th>BaggingClassifier(n_estimators=100, random_state=42)</th>\n",
       "      <td>1.000000</td>\n",
       "      <td>0.473684</td>\n",
       "      <td>1.000000</td>\n",
       "      <td>0.473684</td>\n",
       "    </tr>\n",
       "    <tr>\n",
       "      <th>RandomForestClassifier(random_state=42)</th>\n",
       "      <td>1.000000</td>\n",
       "      <td>0.500000</td>\n",
       "      <td>1.000000</td>\n",
       "      <td>0.500000</td>\n",
       "    </tr>\n",
       "    <tr>\n",
       "      <th>RandomForestClassifier(max_depth=5, random_state=42)</th>\n",
       "      <td>0.535714</td>\n",
       "      <td>0.447368</td>\n",
       "      <td>0.535714</td>\n",
       "      <td>0.447368</td>\n",
       "    </tr>\n",
       "    <tr>\n",
       "      <th>AdaBoostClassifier(n_estimators=100, random_state=42)</th>\n",
       "      <td>0.633929</td>\n",
       "      <td>0.473684</td>\n",
       "      <td>0.633929</td>\n",
       "      <td>0.473684</td>\n",
       "    </tr>\n",
       "  </tbody>\n",
       "</table>\n",
       "</div>"
      ],
      "text/plain": [
       "                                                    train_acc  test_acc  \\\n",
       "DecisionTreeClassifier(random_state=42)              1.000000  0.394737   \n",
       "DecisionTreeClassifier(max_depth=5, random_stat...   0.642857  0.447368   \n",
       "SVC(random_state=42)                                 1.000000  0.447368   \n",
       "BaggingClassifier(n_estimators=100, random_stat...   1.000000  0.473684   \n",
       "RandomForestClassifier(random_state=42)              1.000000  0.500000   \n",
       "RandomForestClassifier(max_depth=5, random_stat...   0.535714  0.447368   \n",
       "AdaBoostClassifier(n_estimators=100, random_sta...   0.633929  0.473684   \n",
       "\n",
       "                                                    f1_train   f1_test  \n",
       "DecisionTreeClassifier(random_state=42)             1.000000  0.394737  \n",
       "DecisionTreeClassifier(max_depth=5, random_stat...  0.642857  0.447368  \n",
       "SVC(random_state=42)                                1.000000  0.447368  \n",
       "BaggingClassifier(n_estimators=100, random_stat...  1.000000  0.473684  \n",
       "RandomForestClassifier(random_state=42)             1.000000  0.500000  \n",
       "RandomForestClassifier(max_depth=5, random_stat...  0.535714  0.447368  \n",
       "AdaBoostClassifier(n_estimators=100, random_sta...  0.633929  0.473684  "
      ]
     },
     "execution_count": 86,
     "metadata": {},
     "output_type": "execute_result"
    }
   ],
   "source": [
    "# runs the function on my list of classifiers\n",
    "modeling_class(class_list=class_list, use_split_data=True, standard_scale=False, X_train=X_train_df, X_test=X_test_df, y_train=y_train, y_test=y_test)"
   ]
  },
  {
   "cell_type": "markdown",
   "metadata": {},
   "source": [
    "### Modeling with Random Forest Classifier with stemmed words"
   ]
  },
  {
   "cell_type": "code",
   "execution_count": 87,
   "metadata": {},
   "outputs": [
    {
     "data": {
      "text/html": [
       "<div>\n",
       "<style scoped>\n",
       "    .dataframe tbody tr th:only-of-type {\n",
       "        vertical-align: middle;\n",
       "    }\n",
       "\n",
       "    .dataframe tbody tr th {\n",
       "        vertical-align: top;\n",
       "    }\n",
       "\n",
       "    .dataframe thead th {\n",
       "        text-align: right;\n",
       "    }\n",
       "</style>\n",
       "<table border=\"1\" class=\"dataframe\">\n",
       "  <thead>\n",
       "    <tr style=\"text-align: right;\">\n",
       "      <th></th>\n",
       "      <th>business_id</th>\n",
       "      <th>name</th>\n",
       "      <th>review_id</th>\n",
       "      <th>review_stars</th>\n",
       "      <th>text</th>\n",
       "      <th>amb_casual</th>\n",
       "      <th>amb_classy</th>\n",
       "      <th>amb_target</th>\n",
       "      <th>text_length</th>\n",
       "      <th>clean_text</th>\n",
       "      <th>clean_text_length</th>\n",
       "      <th>clean_text_stem</th>\n",
       "      <th>clean_text_stem_length</th>\n",
       "    </tr>\n",
       "  </thead>\n",
       "  <tbody>\n",
       "    <tr>\n",
       "      <th>0</th>\n",
       "      <td>0lCiLKpjrinltPFbBby4sw</td>\n",
       "      <td>The Great Wall Restaurant</td>\n",
       "      <td>wve8w6gIuPpCfo5J--AHjg</td>\n",
       "      <td>3</td>\n",
       "      <td>The menu sounded promising, with over fifty di...</td>\n",
       "      <td>0.0</td>\n",
       "      <td>0.0</td>\n",
       "      <td>0</td>\n",
       "      <td>121</td>\n",
       "      <td>menu sounded promising fifty different dishes ...</td>\n",
       "      <td>68</td>\n",
       "      <td>menu sound promis fifti differ dish differ sty...</td>\n",
       "      <td>66</td>\n",
       "    </tr>\n",
       "    <tr>\n",
       "      <th>1</th>\n",
       "      <td>0lCiLKpjrinltPFbBby4sw</td>\n",
       "      <td>The Great Wall Restaurant</td>\n",
       "      <td>5rFuHGGbimVxPHxgM0sNSA</td>\n",
       "      <td>3</td>\n",
       "      <td>This wasn't the worst Chinese food but it wasn...</td>\n",
       "      <td>0.0</td>\n",
       "      <td>0.0</td>\n",
       "      <td>0</td>\n",
       "      <td>78</td>\n",
       "      <td>wasn' worst chinese food wasn' best egg foo yo...</td>\n",
       "      <td>41</td>\n",
       "      <td>worst chines food best egg foo young dri overc...</td>\n",
       "      <td>39</td>\n",
       "    </tr>\n",
       "    <tr>\n",
       "      <th>2</th>\n",
       "      <td>0lCiLKpjrinltPFbBby4sw</td>\n",
       "      <td>The Great Wall Restaurant</td>\n",
       "      <td>2iD3Rdbw0DUzjZSqBq3hXQ</td>\n",
       "      <td>1</td>\n",
       "      <td>I have been coming to this restaurant for over...</td>\n",
       "      <td>0.0</td>\n",
       "      <td>0.0</td>\n",
       "      <td>0</td>\n",
       "      <td>52</td>\n",
       "      <td>coming restaurant 20 years purchased shrimp fr...</td>\n",
       "      <td>27</td>\n",
       "      <td>come restaur 20 year purchas shrimp fri rice g...</td>\n",
       "      <td>26</td>\n",
       "    </tr>\n",
       "    <tr>\n",
       "      <th>3</th>\n",
       "      <td>0lCiLKpjrinltPFbBby4sw</td>\n",
       "      <td>The Great Wall Restaurant</td>\n",
       "      <td>e61y5ZlNwg04mAGtcD3vbQ</td>\n",
       "      <td>5</td>\n",
       "      <td>My husband and I love this place.\\nGreat price...</td>\n",
       "      <td>0.0</td>\n",
       "      <td>0.0</td>\n",
       "      <td>0</td>\n",
       "      <td>23</td>\n",
       "      <td>husband love place great price lot food make s...</td>\n",
       "      <td>13</td>\n",
       "      <td>husband love place great price lot food make s...</td>\n",
       "      <td>12</td>\n",
       "    </tr>\n",
       "    <tr>\n",
       "      <th>4</th>\n",
       "      <td>kZFTi8FKjs30EuzurZ3v3g</td>\n",
       "      <td>Donerick's Pub</td>\n",
       "      <td>38lN2ONaypsfBDLwhGxcSg</td>\n",
       "      <td>5</td>\n",
       "      <td>Great place for beverages with your friends wh...</td>\n",
       "      <td>0.0</td>\n",
       "      <td>0.0</td>\n",
       "      <td>0</td>\n",
       "      <td>61</td>\n",
       "      <td>great place beverages friends watch game lots ...</td>\n",
       "      <td>43</td>\n",
       "      <td>great place beverag friend watch game lot tv g...</td>\n",
       "      <td>43</td>\n",
       "    </tr>\n",
       "  </tbody>\n",
       "</table>\n",
       "</div>"
      ],
      "text/plain": [
       "              business_id                       name               review_id  \\\n",
       "0  0lCiLKpjrinltPFbBby4sw  The Great Wall Restaurant  wve8w6gIuPpCfo5J--AHjg   \n",
       "1  0lCiLKpjrinltPFbBby4sw  The Great Wall Restaurant  5rFuHGGbimVxPHxgM0sNSA   \n",
       "2  0lCiLKpjrinltPFbBby4sw  The Great Wall Restaurant  2iD3Rdbw0DUzjZSqBq3hXQ   \n",
       "3  0lCiLKpjrinltPFbBby4sw  The Great Wall Restaurant  e61y5ZlNwg04mAGtcD3vbQ   \n",
       "4  kZFTi8FKjs30EuzurZ3v3g             Donerick's Pub  38lN2ONaypsfBDLwhGxcSg   \n",
       "\n",
       "   review_stars                                               text  \\\n",
       "0             3  The menu sounded promising, with over fifty di...   \n",
       "1             3  This wasn't the worst Chinese food but it wasn...   \n",
       "2             1  I have been coming to this restaurant for over...   \n",
       "3             5  My husband and I love this place.\\nGreat price...   \n",
       "4             5  Great place for beverages with your friends wh...   \n",
       "\n",
       "   amb_casual  amb_classy  amb_target  text_length  \\\n",
       "0         0.0         0.0           0          121   \n",
       "1         0.0         0.0           0           78   \n",
       "2         0.0         0.0           0           52   \n",
       "3         0.0         0.0           0           23   \n",
       "4         0.0         0.0           0           61   \n",
       "\n",
       "                                          clean_text  clean_text_length  \\\n",
       "0  menu sounded promising fifty different dishes ...                 68   \n",
       "1  wasn' worst chinese food wasn' best egg foo yo...                 41   \n",
       "2  coming restaurant 20 years purchased shrimp fr...                 27   \n",
       "3  husband love place great price lot food make s...                 13   \n",
       "4  great place beverages friends watch game lots ...                 43   \n",
       "\n",
       "                                     clean_text_stem  clean_text_stem_length  \n",
       "0  menu sound promis fifti differ dish differ sty...                      66  \n",
       "1  worst chines food best egg foo young dri overc...                      39  \n",
       "2  come restaur 20 year purchas shrimp fri rice g...                      26  \n",
       "3  husband love place great price lot food make s...                      12  \n",
       "4  great place beverag friend watch game lot tv g...                      43  "
      ]
     },
     "execution_count": 87,
     "metadata": {},
     "output_type": "execute_result"
    }
   ],
   "source": [
    "df.head()"
   ]
  },
  {
   "cell_type": "code",
   "execution_count": 88,
   "metadata": {},
   "outputs": [
    {
     "data": {
      "text/plain": [
       "(86189, 13)"
      ]
     },
     "execution_count": 88,
     "metadata": {},
     "output_type": "execute_result"
    }
   ],
   "source": [
    "df.shape"
   ]
  },
  {
   "cell_type": "code",
   "execution_count": 89,
   "metadata": {},
   "outputs": [],
   "source": [
    "# Sets up X and y\n",
    "X = df['clean_text_stem']\n",
    "y = df['amb_target']"
   ]
  },
  {
   "cell_type": "code",
   "execution_count": 90,
   "metadata": {},
   "outputs": [],
   "source": [
    "# Splits the data into training and test sets from sample\n",
    "X_train, X_test, y_train, y_test = train_test_split(X, y, \n",
    "                                                    stratify=y, \n",
    "                                                    random_state=42)"
   ]
  },
  {
   "cell_type": "code",
   "execution_count": 91,
   "metadata": {},
   "outputs": [],
   "source": [
    "# Instantiates TfidfVectorizer \n",
    "tvec = TfidfVectorizer()\n",
    "\n",
    "# Fits and transforms the vectorizer on our corpus\n",
    "X_train = tvec.fit_transform(X_train)\n",
    "X_test = tvec.transform(X_test)\n",
    "\n",
    "# Turns it into a dataframe\n",
    "X_train_df = pd.DataFrame(X_train.toarray(), columns=tvec.get_feature_names())\n",
    "X_test_df = pd.DataFrame(X_test.toarray(), columns=tvec.get_feature_names())\n"
   ]
  },
  {
   "cell_type": "code",
   "execution_count": 92,
   "metadata": {},
   "outputs": [],
   "source": [
    "# Instantiates the random forest classifier \n",
    "rf = RandomForestClassifier(max_depth=5, random_state=42)"
   ]
  },
  {
   "cell_type": "code",
   "execution_count": 93,
   "metadata": {},
   "outputs": [
    {
     "data": {
      "text/plain": [
       "RandomForestClassifier(max_depth=5, random_state=42)"
      ]
     },
     "execution_count": 93,
     "metadata": {},
     "output_type": "execute_result"
    }
   ],
   "source": [
    "# Fits a random forest model\n",
    "rf.fit(X_train_df, y_train)"
   ]
  },
  {
   "cell_type": "code",
   "execution_count": 94,
   "metadata": {},
   "outputs": [
    {
     "data": {
      "text/plain": [
       "(0.49480979564053773, 0.4947558938184518)"
      ]
     },
     "execution_count": 94,
     "metadata": {},
     "output_type": "execute_result"
    }
   ],
   "source": [
    "# Scores the random forest fit\n",
    "rf.score(X_train_df, y_train), rf.score(X_test_df, y_test)"
   ]
  },
  {
   "cell_type": "code",
   "execution_count": 95,
   "metadata": {},
   "outputs": [],
   "source": [
    "# Finds the cross-validation score \n",
    "# cross_val_score(rf, X_train_df, y_train).mean()"
   ]
  },
  {
   "cell_type": "code",
   "execution_count": 96,
   "metadata": {},
   "outputs": [
    {
     "data": {
      "text/plain": [
       "1    0.494756\n",
       "3    0.210692\n",
       "2    0.156070\n",
       "0    0.138482\n",
       "Name: amb_target, dtype: float64"
      ]
     },
     "execution_count": 96,
     "metadata": {},
     "output_type": "execute_result"
    }
   ],
   "source": [
    "# baseline\n",
    "y_test.value_counts(normalize=True)"
   ]
  },
  {
   "cell_type": "code",
   "execution_count": 97,
   "metadata": {},
   "outputs": [
    {
     "data": {
      "text/plain": [
       "1    10661\n",
       "3     4540\n",
       "2     3363\n",
       "0     2984\n",
       "Name: amb_target, dtype: int64"
      ]
     },
     "execution_count": 97,
     "metadata": {},
     "output_type": "execute_result"
    }
   ],
   "source": [
    "y_test.value_counts()"
   ]
  },
  {
   "cell_type": "code",
   "execution_count": null,
   "metadata": {},
   "outputs": [],
   "source": []
  },
  {
   "cell_type": "markdown",
   "metadata": {},
   "source": [
    "### Modeling with Random Forest Classifier with original text with stopwords removed"
   ]
  },
  {
   "cell_type": "code",
   "execution_count": 98,
   "metadata": {},
   "outputs": [
    {
     "data": {
      "text/html": [
       "<div>\n",
       "<style scoped>\n",
       "    .dataframe tbody tr th:only-of-type {\n",
       "        vertical-align: middle;\n",
       "    }\n",
       "\n",
       "    .dataframe tbody tr th {\n",
       "        vertical-align: top;\n",
       "    }\n",
       "\n",
       "    .dataframe thead th {\n",
       "        text-align: right;\n",
       "    }\n",
       "</style>\n",
       "<table border=\"1\" class=\"dataframe\">\n",
       "  <thead>\n",
       "    <tr style=\"text-align: right;\">\n",
       "      <th></th>\n",
       "      <th>business_id</th>\n",
       "      <th>name</th>\n",
       "      <th>review_id</th>\n",
       "      <th>review_stars</th>\n",
       "      <th>text</th>\n",
       "      <th>amb_casual</th>\n",
       "      <th>amb_classy</th>\n",
       "      <th>amb_target</th>\n",
       "      <th>text_length</th>\n",
       "      <th>clean_text</th>\n",
       "      <th>clean_text_length</th>\n",
       "      <th>clean_text_stem</th>\n",
       "      <th>clean_text_stem_length</th>\n",
       "    </tr>\n",
       "  </thead>\n",
       "  <tbody>\n",
       "    <tr>\n",
       "      <th>0</th>\n",
       "      <td>0lCiLKpjrinltPFbBby4sw</td>\n",
       "      <td>The Great Wall Restaurant</td>\n",
       "      <td>wve8w6gIuPpCfo5J--AHjg</td>\n",
       "      <td>3</td>\n",
       "      <td>The menu sounded promising, with over fifty di...</td>\n",
       "      <td>0.0</td>\n",
       "      <td>0.0</td>\n",
       "      <td>0</td>\n",
       "      <td>121</td>\n",
       "      <td>menu sounded promising fifty different dishes ...</td>\n",
       "      <td>68</td>\n",
       "      <td>menu sound promis fifti differ dish differ sty...</td>\n",
       "      <td>66</td>\n",
       "    </tr>\n",
       "    <tr>\n",
       "      <th>1</th>\n",
       "      <td>0lCiLKpjrinltPFbBby4sw</td>\n",
       "      <td>The Great Wall Restaurant</td>\n",
       "      <td>5rFuHGGbimVxPHxgM0sNSA</td>\n",
       "      <td>3</td>\n",
       "      <td>This wasn't the worst Chinese food but it wasn...</td>\n",
       "      <td>0.0</td>\n",
       "      <td>0.0</td>\n",
       "      <td>0</td>\n",
       "      <td>78</td>\n",
       "      <td>wasn' worst chinese food wasn' best egg foo yo...</td>\n",
       "      <td>41</td>\n",
       "      <td>worst chines food best egg foo young dri overc...</td>\n",
       "      <td>39</td>\n",
       "    </tr>\n",
       "    <tr>\n",
       "      <th>2</th>\n",
       "      <td>0lCiLKpjrinltPFbBby4sw</td>\n",
       "      <td>The Great Wall Restaurant</td>\n",
       "      <td>2iD3Rdbw0DUzjZSqBq3hXQ</td>\n",
       "      <td>1</td>\n",
       "      <td>I have been coming to this restaurant for over...</td>\n",
       "      <td>0.0</td>\n",
       "      <td>0.0</td>\n",
       "      <td>0</td>\n",
       "      <td>52</td>\n",
       "      <td>coming restaurant 20 years purchased shrimp fr...</td>\n",
       "      <td>27</td>\n",
       "      <td>come restaur 20 year purchas shrimp fri rice g...</td>\n",
       "      <td>26</td>\n",
       "    </tr>\n",
       "    <tr>\n",
       "      <th>3</th>\n",
       "      <td>0lCiLKpjrinltPFbBby4sw</td>\n",
       "      <td>The Great Wall Restaurant</td>\n",
       "      <td>e61y5ZlNwg04mAGtcD3vbQ</td>\n",
       "      <td>5</td>\n",
       "      <td>My husband and I love this place.\\nGreat price...</td>\n",
       "      <td>0.0</td>\n",
       "      <td>0.0</td>\n",
       "      <td>0</td>\n",
       "      <td>23</td>\n",
       "      <td>husband love place great price lot food make s...</td>\n",
       "      <td>13</td>\n",
       "      <td>husband love place great price lot food make s...</td>\n",
       "      <td>12</td>\n",
       "    </tr>\n",
       "    <tr>\n",
       "      <th>4</th>\n",
       "      <td>kZFTi8FKjs30EuzurZ3v3g</td>\n",
       "      <td>Donerick's Pub</td>\n",
       "      <td>38lN2ONaypsfBDLwhGxcSg</td>\n",
       "      <td>5</td>\n",
       "      <td>Great place for beverages with your friends wh...</td>\n",
       "      <td>0.0</td>\n",
       "      <td>0.0</td>\n",
       "      <td>0</td>\n",
       "      <td>61</td>\n",
       "      <td>great place beverages friends watch game lots ...</td>\n",
       "      <td>43</td>\n",
       "      <td>great place beverag friend watch game lot tv g...</td>\n",
       "      <td>43</td>\n",
       "    </tr>\n",
       "  </tbody>\n",
       "</table>\n",
       "</div>"
      ],
      "text/plain": [
       "              business_id                       name               review_id  \\\n",
       "0  0lCiLKpjrinltPFbBby4sw  The Great Wall Restaurant  wve8w6gIuPpCfo5J--AHjg   \n",
       "1  0lCiLKpjrinltPFbBby4sw  The Great Wall Restaurant  5rFuHGGbimVxPHxgM0sNSA   \n",
       "2  0lCiLKpjrinltPFbBby4sw  The Great Wall Restaurant  2iD3Rdbw0DUzjZSqBq3hXQ   \n",
       "3  0lCiLKpjrinltPFbBby4sw  The Great Wall Restaurant  e61y5ZlNwg04mAGtcD3vbQ   \n",
       "4  kZFTi8FKjs30EuzurZ3v3g             Donerick's Pub  38lN2ONaypsfBDLwhGxcSg   \n",
       "\n",
       "   review_stars                                               text  \\\n",
       "0             3  The menu sounded promising, with over fifty di...   \n",
       "1             3  This wasn't the worst Chinese food but it wasn...   \n",
       "2             1  I have been coming to this restaurant for over...   \n",
       "3             5  My husband and I love this place.\\nGreat price...   \n",
       "4             5  Great place for beverages with your friends wh...   \n",
       "\n",
       "   amb_casual  amb_classy  amb_target  text_length  \\\n",
       "0         0.0         0.0           0          121   \n",
       "1         0.0         0.0           0           78   \n",
       "2         0.0         0.0           0           52   \n",
       "3         0.0         0.0           0           23   \n",
       "4         0.0         0.0           0           61   \n",
       "\n",
       "                                          clean_text  clean_text_length  \\\n",
       "0  menu sounded promising fifty different dishes ...                 68   \n",
       "1  wasn' worst chinese food wasn' best egg foo yo...                 41   \n",
       "2  coming restaurant 20 years purchased shrimp fr...                 27   \n",
       "3  husband love place great price lot food make s...                 13   \n",
       "4  great place beverages friends watch game lots ...                 43   \n",
       "\n",
       "                                     clean_text_stem  clean_text_stem_length  \n",
       "0  menu sound promis fifti differ dish differ sty...                      66  \n",
       "1  worst chines food best egg foo young dri overc...                      39  \n",
       "2  come restaur 20 year purchas shrimp fri rice g...                      26  \n",
       "3  husband love place great price lot food make s...                      12  \n",
       "4  great place beverag friend watch game lot tv g...                      43  "
      ]
     },
     "execution_count": 98,
     "metadata": {},
     "output_type": "execute_result"
    }
   ],
   "source": [
    "df.head()"
   ]
  },
  {
   "cell_type": "code",
   "execution_count": 99,
   "metadata": {},
   "outputs": [],
   "source": [
    "# Sets up X and y\n",
    "X = df['clean_text']\n",
    "y = df['amb_target']"
   ]
  },
  {
   "cell_type": "code",
   "execution_count": 100,
   "metadata": {},
   "outputs": [],
   "source": [
    "# Splits the data into training and test sets from sample\n",
    "X_train, X_test, y_train, y_test = train_test_split(X, y, \n",
    "                                                    stratify=y, \n",
    "                                                    random_state=42)"
   ]
  },
  {
   "cell_type": "code",
   "execution_count": null,
   "metadata": {},
   "outputs": [],
   "source": [
    "# Instantiates TfidfVectorizer \n",
    "tvec = TfidfVectorizer()\n",
    "\n",
    "# Fits and transforms the vectorizer on our corpus\n",
    "X_train = tvec.fit_transform(X_train)\n",
    "X_test = tvec.transform(X_test)\n",
    "\n",
    "# Turns it into a dataframe\n",
    "X_train_df = pd.DataFrame(X_train.toarray(), columns=tvec.get_feature_names())\n",
    "X_test_df = pd.DataFrame(X_test.toarray(), columns=tvec.get_feature_names())\n"
   ]
  },
  {
   "cell_type": "code",
   "execution_count": null,
   "metadata": {},
   "outputs": [],
   "source": [
    "# Instantiates the random forest classifier \n",
    "rf = RandomForestClassifier(max_depth=5, random_state=42)"
   ]
  },
  {
   "cell_type": "code",
   "execution_count": null,
   "metadata": {},
   "outputs": [],
   "source": [
    "# Fits a random forest model\n",
    "rf.fit(X_train_df, y_train)"
   ]
  },
  {
   "cell_type": "code",
   "execution_count": null,
   "metadata": {},
   "outputs": [],
   "source": [
    "# Scores the random forest fit\n",
    "rf.score(X_train_df, y_train), rf.score(X_test_df, y_test)"
   ]
  },
  {
   "cell_type": "code",
   "execution_count": null,
   "metadata": {},
   "outputs": [],
   "source": [
    "# Finds the cross-validation score \n",
    "# cross_val_score(rf, X_train_df, y_train).mean()"
   ]
  },
  {
   "cell_type": "code",
   "execution_count": null,
   "metadata": {},
   "outputs": [],
   "source": []
  },
  {
   "cell_type": "markdown",
   "metadata": {},
   "source": [
    "### Modeling with Random Forest Classifier with original text with stopwords removed AND undersampling the majority class"
   ]
  },
  {
   "cell_type": "markdown",
   "metadata": {},
   "source": [
    "#### Modeling: Random Forest"
   ]
  },
  {
   "cell_type": "code",
   "execution_count": 66,
   "metadata": {},
   "outputs": [],
   "source": [
    "# Sets up X and y\n",
    "X = new_df['clean_text']\n",
    "y = new_df['amb_target']"
   ]
  },
  {
   "cell_type": "code",
   "execution_count": 67,
   "metadata": {},
   "outputs": [],
   "source": [
    "# Splits the data into training and test sets from sample\n",
    "X_train, X_test, y_train, y_test = train_test_split(X, y, \n",
    "                                                    stratify=y, \n",
    "                                                    random_state=42)"
   ]
  },
  {
   "cell_type": "code",
   "execution_count": 68,
   "metadata": {},
   "outputs": [],
   "source": [
    "# Instantiates TfidfVectorizer \n",
    "tvec = TfidfVectorizer()\n",
    "\n",
    "# Fits and transforms the vectorizer on our corpus\n",
    "X_train = tvec.fit_transform(X_train)\n",
    "X_test = tvec.transform(X_test)\n",
    "\n",
    "# Turns it into a dataframe\n",
    "X_train_df = pd.DataFrame(X_train.toarray(), columns=tvec.get_feature_names())\n",
    "X_test_df = pd.DataFrame(X_test.toarray(), columns=tvec.get_feature_names())\n"
   ]
  },
  {
   "cell_type": "code",
   "execution_count": 69,
   "metadata": {},
   "outputs": [],
   "source": [
    "# Instantiates the random forest classifier \n",
    "rf = RandomForestClassifier(max_depth=5, random_state=42)"
   ]
  },
  {
   "cell_type": "code",
   "execution_count": 70,
   "metadata": {},
   "outputs": [
    {
     "data": {
      "text/plain": [
       "RandomForestClassifier(max_depth=5, random_state=42)"
      ]
     },
     "execution_count": 70,
     "metadata": {},
     "output_type": "execute_result"
    }
   ],
   "source": [
    "# Fits a random forest model\n",
    "rf.fit(X_train_df, y_train)"
   ]
  },
  {
   "cell_type": "code",
   "execution_count": 71,
   "metadata": {},
   "outputs": [
    {
     "data": {
      "text/plain": [
       "(0.3435765673175745, 0.3418018129123759)"
      ]
     },
     "execution_count": 71,
     "metadata": {},
     "output_type": "execute_result"
    }
   ],
   "source": [
    "# Scores the random forest fit\n",
    "rf.score(X_train_df, y_train), rf.score(X_test_df, y_test)"
   ]
  },
  {
   "cell_type": "code",
   "execution_count": 72,
   "metadata": {},
   "outputs": [],
   "source": [
    "# Finds the cross-validation score \n",
    "# cross_val_score(rf, X_train_df, y_train).mean()"
   ]
  },
  {
   "cell_type": "code",
   "execution_count": null,
   "metadata": {},
   "outputs": [],
   "source": []
  }
 ],
 "metadata": {
  "environment": {
   "name": "tf2-gpu.2-4.m65",
   "type": "gcloud",
   "uri": "gcr.io/deeplearning-platform-release/tf2-gpu.2-4:m65"
  },
  "kernelspec": {
   "display_name": "Python 3",
   "language": "python",
   "name": "python3"
  },
  "language_info": {
   "codemirror_mode": {
    "name": "ipython",
    "version": 3
   },
   "file_extension": ".py",
   "mimetype": "text/x-python",
   "name": "python",
   "nbconvert_exporter": "python",
   "pygments_lexer": "ipython3",
   "version": "3.8.5"
  }
 },
 "nbformat": 4,
 "nbformat_minor": 5
}
