{
 "cells": [
  {
   "cell_type": "markdown",
   "metadata": {},
   "source": [
    "# Streamlit App Demo as a Python Notebook"
   ]
  },
  {
   "cell_type": "code",
   "execution_count": 3,
   "metadata": {},
   "outputs": [],
   "source": [
    "# imports libraries\n",
    "import numpy as np\n",
    "import pandas as pd\n",
    "import matplotlib.pyplot as plt\n",
    "import os\n",
    "import time\n",
    "\n",
    "# standard sklearn imports\n",
    "from sklearn.model_selection import train_test_split, GridSearchCV\n",
    "\n",
    "# tensorflow imports for Neural Networks\n",
    "import tensorflow as tf\n",
    "from tensorflow.keras.models import Sequential\n",
    "from tensorflow.keras.layers import Dense, Input, Dropout, Flatten, Conv2D, MaxPooling2D, GRU, LSTM, Embedding, Bidirectional\n",
    "from tensorflow.keras.initializers import Constant\n",
    "from tensorflow.keras.optimizers import Adam\n",
    "\n",
    "# Import regularizers\n",
    "from tensorflow.keras.regularizers import l2\n",
    "# Import Dropout\n",
    "from tensorflow.keras.layers import Dropout\n",
    "\n",
    "from tensorflow.keras.utils import to_categorical, plot_model\n",
    "\n",
    "# imports for reports on classification\n",
    "from sklearn.metrics import classification_report, confusion_matrix, ConfusionMatrixDisplay, accuracy_score\n",
    "\n",
    "\n",
    "# NLP imports \n",
    "from sklearn.feature_extraction.text import CountVectorizer, TfidfVectorizer\n",
    "import nltk\n",
    "# nltk.download() # --> Download all, and then restart jupyter lab\n",
    "# nltk.download('stopwords')\n",
    "from nltk.tokenize import sent_tokenize, word_tokenize, RegexpTokenizer\n",
    "from nltk.stem import WordNetLemmatizer\n",
    "from nltk.stem.porter import PorterStemmer\n",
    "from nltk.corpus import stopwords\n",
    "\n",
    "plt.style.use(style='seaborn')\n",
    "%matplotlib inline"
   ]
  },
  {
   "cell_type": "markdown",
   "metadata": {},
   "source": [
    "## Part 1: Load the Model and Make a Prediction"
   ]
  },
  {
   "cell_type": "markdown",
   "metadata": {},
   "source": [
    "### Loads the saved model"
   ]
  },
  {
   "cell_type": "code",
   "execution_count": 4,
   "metadata": {},
   "outputs": [],
   "source": [
    "# Loads the keras model\n",
    "model = tf.keras.models.load_model('saved_model/my_model')"
   ]
  },
  {
   "cell_type": "code",
   "execution_count": null,
   "metadata": {},
   "outputs": [],
   "source": []
  },
  {
   "cell_type": "markdown",
   "metadata": {},
   "source": [
    "### Generates a prediction"
   ]
  },
  {
   "cell_type": "code",
   "execution_count": 5,
   "metadata": {},
   "outputs": [],
   "source": [
    "def clean_text_stem(text):\n",
    "    \"\"\"Cleans text by keeping words only, tokenizing, stemming and removing stopwords\"\"\"\n",
    "    #Instantiate tokenizer and stemmer and lemmatizer\n",
    "    re_tokenizer = RegexpTokenizer(\"\\w+\")\n",
    "    lemmatizer = WordNetLemmatizer()\n",
    "    p_stemmer = PorterStemmer()\n",
    "        \n",
    "    # Tokenze the text\n",
    "    words = re_tokenizer.tokenize(text.lower())\n",
    "    \n",
    "    # Filter stop words\n",
    "    stopwords_list = stopwords.words('english')\n",
    "    \n",
    "     # Adds custom stopwords to stopwords_list\n",
    "#     custom = []\n",
    "#     stopwords_list = stopwords_list + custom\n",
    "\n",
    "    no_stops_stemmed = [p_stemmer.stem(word) for word in words if word.lower() not in stopwords_list]\n",
    "    \n",
    "    return (' ').join(no_stops_stemmed)"
   ]
  },
  {
   "cell_type": "code",
   "execution_count": 6,
   "metadata": {},
   "outputs": [
    {
     "name": "stdin",
     "output_type": "stream",
     "text": [
      "Describe the restaurant experience you want:  I would like a place that serves crispy pork belly, wine, hot towels, a drink out of a pineapple and has outdoor seating with a sea breeze and a koi pond.\n"
     ]
    }
   ],
   "source": [
    "# User input\n",
    "user_text = input('Describe the restaurant experience you want: ')"
   ]
  },
  {
   "cell_type": "code",
   "execution_count": 7,
   "metadata": {},
   "outputs": [
    {
     "data": {
      "text/plain": [
       "'would like place serv crispi pork belli wine hot towel drink pineappl outdoor seat sea breez koi pond'"
      ]
     },
     "execution_count": 7,
     "metadata": {},
     "output_type": "execute_result"
    }
   ],
   "source": [
    "# Stems the input text\n",
    "stemmed_text = clean_text_stem(user_text)\n",
    "stemmed_text"
   ]
  },
  {
   "cell_type": "code",
   "execution_count": 8,
   "metadata": {},
   "outputs": [],
   "source": [
    "# 'want indoor dine full servic waiter staff 3 cours meal complementari coconut water'\n",
    "# I would like a place that serves crispy pork belly, wine, hot towels, a drink out of a pineapple and has outdoor seating with a sea breeze and a koi pond."
   ]
  },
  {
   "cell_type": "markdown",
   "metadata": {},
   "source": [
    "### Transforms text for model input"
   ]
  },
  {
   "cell_type": "code",
   "execution_count": 9,
   "metadata": {},
   "outputs": [],
   "source": [
    "X_train = pd.read_csv('../../Data/X_train_to_tokenize.csv', index_col=0)\n",
    "X_train = X_train.squeeze()\n",
    "\n",
    "\n",
    "# import the Counter function\n",
    "from collections import Counter\n",
    "\n",
    "# import the tokenizer from keras preprocessing \n",
    "from tensorflow.keras.preprocessing.text import Tokenizer\n",
    "\n",
    "# Creates a function that counts unique words\n",
    "def counter_word(text):\n",
    "    count = Counter()\n",
    "    for doc in text.values:\n",
    "        for word in doc.split():\n",
    "            count[word] += 1\n",
    "    return count\n",
    "\n",
    "# Counts the number of times a unique word appears\n",
    "counter = counter_word(X_train)\n",
    "\n",
    "num_words = len(counter)\n",
    "\n",
    "# Max number of words in a sequence\n",
    "max_length = 50\n",
    "\n",
    "# import the tokenizer from keras preprocessing \n",
    "from tensorflow.keras.preprocessing.text import Tokenizer\n",
    "\n",
    "# Fit the tokenizer onto the train sentences \n",
    "tokenizer = Tokenizer(num_words=num_words)\n",
    "tokenizer.fit_on_texts(X_train)\n",
    "\n",
    "# Now adding padding\n",
    "from tensorflow.keras.preprocessing.sequence import pad_sequences \n",
    "\n",
    "# Creates the test sequences and padding\n",
    "user_input_sequences = tokenizer.texts_to_sequences(pd.Series(stemmed_text))\n",
    "user_input_padded = pad_sequences(\n",
    "    user_input_sequences, maxlen=max_length, padding='post', truncating='post'\n",
    ")"
   ]
  },
  {
   "cell_type": "markdown",
   "metadata": {},
   "source": [
    "### Generates a prediction"
   ]
  },
  {
   "cell_type": "code",
   "execution_count": 10,
   "metadata": {},
   "outputs": [],
   "source": [
    "# Generates a prediction\n",
    "pred_probs = model.predict(user_input_padded)"
   ]
  },
  {
   "cell_type": "code",
   "execution_count": 11,
   "metadata": {},
   "outputs": [
    {
     "data": {
      "text/plain": [
       "array([[0.04607087, 0.37488398, 0.07214868, 0.50689644]], dtype=float32)"
      ]
     },
     "execution_count": 11,
     "metadata": {},
     "output_type": "execute_result"
    }
   ],
   "source": [
    "pred_probs"
   ]
  },
  {
   "cell_type": "code",
   "execution_count": 12,
   "metadata": {},
   "outputs": [
    {
     "data": {
      "text/plain": [
       "array([0, 0, 0, 1])"
      ]
     },
     "execution_count": 12,
     "metadata": {},
     "output_type": "execute_result"
    }
   ],
   "source": [
    "# Convert the probabilities to labels using a threshold value\n",
    "max_prob = max(pred_probs[0])\n",
    "preds = np.array([1 if pred_probs[0,i]>=max_prob else 0 for i in range(pred_probs.shape[1])])\n",
    "preds"
   ]
  },
  {
   "cell_type": "code",
   "execution_count": 13,
   "metadata": {},
   "outputs": [],
   "source": [
    "# Defining a dictionary with the name of the classes\n",
    "class_dict = {\n",
    "  0: \"Neither casual nor classy\",\n",
    "  1: \"Casual\",\n",
    "  2: \"Classy\",\n",
    "  3: \"Casual and classy\"\n",
    "}"
   ]
  },
  {
   "cell_type": "code",
   "execution_count": 14,
   "metadata": {},
   "outputs": [],
   "source": [
    "# Converting boolean array to class names\n",
    "finalPrediction=[]\n",
    "for idx, num in enumerate(preds):\n",
    "    if(num == 1):\n",
    "        finalPrediction.append(class_dict[idx])\n",
    "        Ambience = [idx]"
   ]
  },
  {
   "cell_type": "code",
   "execution_count": 15,
   "metadata": {},
   "outputs": [
    {
     "name": "stdout",
     "output_type": "stream",
     "text": [
      "Casual and classy\n",
      "[3]\n"
     ]
    }
   ],
   "source": [
    "# Printing class name outputs\n",
    "print(finalPrediction[0])\n",
    "print(Ambience)"
   ]
  },
  {
   "cell_type": "code",
   "execution_count": 16,
   "metadata": {},
   "outputs": [],
   "source": [
    "# Changes the probabilities to binary\n",
    "# preds = (pred_probs > 0.5).astype(int) "
   ]
  },
  {
   "cell_type": "markdown",
   "metadata": {},
   "source": [
    "#### Gathers the rest of user inputs"
   ]
  },
  {
   "cell_type": "code",
   "execution_count": 17,
   "metadata": {},
   "outputs": [
    {
     "name": "stdin",
     "output_type": "stream",
     "text": [
      "Kid-friendly:  Yes\n"
     ]
    }
   ],
   "source": [
    "GoodForKids = input('Kid-friendly: ')"
   ]
  },
  {
   "cell_type": "code",
   "execution_count": 18,
   "metadata": {},
   "outputs": [
    {
     "name": "stdin",
     "output_type": "stream",
     "text": [
      "Group-friendly:  Yes\n"
     ]
    }
   ],
   "source": [
    "GoodForGroups = input('Group-friendly: ')"
   ]
  },
  {
   "cell_type": "code",
   "execution_count": 19,
   "metadata": {},
   "outputs": [
    {
     "name": "stdin",
     "output_type": "stream",
     "text": [
      "Outdoor Seating:  Yes\n"
     ]
    }
   ],
   "source": [
    "OutdoorSeating = input('Outdoor Seating: ')"
   ]
  },
  {
   "cell_type": "code",
   "execution_count": 20,
   "metadata": {},
   "outputs": [
    {
     "name": "stdin",
     "output_type": "stream",
     "text": [
      "Takes Reservations:  No\n"
     ]
    }
   ],
   "source": [
    "Reservations = input('Takes Reservations: ')"
   ]
  },
  {
   "cell_type": "code",
   "execution_count": 21,
   "metadata": {},
   "outputs": [
    {
     "name": "stdin",
     "output_type": "stream",
     "text": [
      "Alcohol/Bar/Wine:  Yes\n"
     ]
    }
   ],
   "source": [
    "HasAlcohol = input('Alcohol/Bar/Wine: ')"
   ]
  },
  {
   "cell_type": "code",
   "execution_count": 22,
   "metadata": {},
   "outputs": [
    {
     "name": "stdin",
     "output_type": "stream",
     "text": [
      "Table Service:  No\n"
     ]
    }
   ],
   "source": [
    "TableService = input('Table Service: ')"
   ]
  },
  {
   "cell_type": "code",
   "execution_count": 23,
   "metadata": {},
   "outputs": [
    {
     "name": "stdin",
     "output_type": "stream",
     "text": [
      "Lunch or Dinner or Both or Other:  Dinner\n"
     ]
    }
   ],
   "source": [
    "MealType = input('Lunch or Dinner or Both or Other: ')"
   ]
  },
  {
   "cell_type": "code",
   "execution_count": 24,
   "metadata": {},
   "outputs": [
    {
     "data": {
      "text/plain": [
       "[3]"
      ]
     },
     "execution_count": 24,
     "metadata": {},
     "output_type": "execute_result"
    }
   ],
   "source": [
    "Ambience"
   ]
  },
  {
   "cell_type": "code",
   "execution_count": 25,
   "metadata": {},
   "outputs": [],
   "source": [
    "# Creates a list of all the features\n",
    "features = [GoodForKids, GoodForGroups, OutdoorSeating, Reservations, HasAlcohol, TableService, MealType]"
   ]
  },
  {
   "cell_type": "code",
   "execution_count": 26,
   "metadata": {},
   "outputs": [
    {
     "data": {
      "text/plain": [
       "[1, 1, 1, 0, 1, 0, 1, 0, 3]"
      ]
     },
     "execution_count": 26,
     "metadata": {},
     "output_type": "execute_result"
    }
   ],
   "source": [
    "# Creates the array of features\n",
    "response_dict = {\n",
    "    'Yes': [1],\n",
    "    'No': [0],\n",
    "    'Lunch': [0, 1],\n",
    "    'Dinner': [1, 0],\n",
    "    'Both': [1, 1],\n",
    "    'Other': [0, 0]\n",
    "}\n",
    "\n",
    "feature_array = []\n",
    "for feature_input in features:\n",
    "    feature_array += response_dict[feature_input]\n",
    "feature_array = feature_array + Ambience\n",
    "feature_array"
   ]
  },
  {
   "cell_type": "code",
   "execution_count": 27,
   "metadata": {},
   "outputs": [
    {
     "data": {
      "text/html": [
       "<div>\n",
       "<style scoped>\n",
       "    .dataframe tbody tr th:only-of-type {\n",
       "        vertical-align: middle;\n",
       "    }\n",
       "\n",
       "    .dataframe tbody tr th {\n",
       "        vertical-align: top;\n",
       "    }\n",
       "\n",
       "    .dataframe thead th {\n",
       "        text-align: right;\n",
       "    }\n",
       "</style>\n",
       "<table border=\"1\" class=\"dataframe\">\n",
       "  <thead>\n",
       "    <tr style=\"text-align: right;\">\n",
       "      <th></th>\n",
       "      <th>0</th>\n",
       "      <th>1</th>\n",
       "      <th>2</th>\n",
       "      <th>3</th>\n",
       "      <th>4</th>\n",
       "      <th>5</th>\n",
       "      <th>6</th>\n",
       "      <th>7</th>\n",
       "      <th>8</th>\n",
       "    </tr>\n",
       "  </thead>\n",
       "  <tbody>\n",
       "    <tr>\n",
       "      <th>0</th>\n",
       "      <td>1</td>\n",
       "      <td>1</td>\n",
       "      <td>1</td>\n",
       "      <td>0</td>\n",
       "      <td>1</td>\n",
       "      <td>0</td>\n",
       "      <td>1</td>\n",
       "      <td>0</td>\n",
       "      <td>3</td>\n",
       "    </tr>\n",
       "  </tbody>\n",
       "</table>\n",
       "</div>"
      ],
      "text/plain": [
       "   0  1  2  3  4  5  6  7  8\n",
       "0  1  1  1  0  1  0  1  0  3"
      ]
     },
     "execution_count": 27,
     "metadata": {},
     "output_type": "execute_result"
    }
   ],
   "source": [
    "pd.DataFrame([feature_array])"
   ]
  },
  {
   "cell_type": "code",
   "execution_count": null,
   "metadata": {},
   "outputs": [],
   "source": []
  },
  {
   "cell_type": "markdown",
   "metadata": {},
   "source": [
    "## Part 2: Recommendation System"
   ]
  },
  {
   "cell_type": "code",
   "execution_count": 28,
   "metadata": {},
   "outputs": [],
   "source": [
    "# imports \n",
    "from scipy import sparse\n",
    "from sklearn.metrics.pairwise import pairwise_distances, cosine_distances, cosine_similarity"
   ]
  },
  {
   "cell_type": "markdown",
   "metadata": {},
   "source": [
    "### Loads in the Recommendation Table and Business Id to Names Table"
   ]
  },
  {
   "cell_type": "code",
   "execution_count": 29,
   "metadata": {},
   "outputs": [
    {
     "data": {
      "text/html": [
       "<div>\n",
       "<style scoped>\n",
       "    .dataframe tbody tr th:only-of-type {\n",
       "        vertical-align: middle;\n",
       "    }\n",
       "\n",
       "    .dataframe tbody tr th {\n",
       "        vertical-align: top;\n",
       "    }\n",
       "\n",
       "    .dataframe thead th {\n",
       "        text-align: right;\n",
       "    }\n",
       "</style>\n",
       "<table border=\"1\" class=\"dataframe\">\n",
       "  <thead>\n",
       "    <tr style=\"text-align: right;\">\n",
       "      <th></th>\n",
       "      <th>business_id</th>\n",
       "      <th>name</th>\n",
       "    </tr>\n",
       "  </thead>\n",
       "  <tbody>\n",
       "    <tr>\n",
       "      <th>0</th>\n",
       "      <td>5eq56X-e9YbAKmHgUOyXSg</td>\n",
       "      <td>Hunan Lion</td>\n",
       "    </tr>\n",
       "    <tr>\n",
       "      <th>1</th>\n",
       "      <td>Fl_7YDOMt58rTNHa7p2G4w</td>\n",
       "      <td>Waffle House</td>\n",
       "    </tr>\n",
       "    <tr>\n",
       "      <th>2</th>\n",
       "      <td>vecuat0jOia-CJveW3ngDw</td>\n",
       "      <td>Schmidt's Sausage Haus</td>\n",
       "    </tr>\n",
       "    <tr>\n",
       "      <th>3</th>\n",
       "      <td>ZaMMUcOIngBCgxuKxFzfqg</td>\n",
       "      <td>McDonald's</td>\n",
       "    </tr>\n",
       "    <tr>\n",
       "      <th>4</th>\n",
       "      <td>FrFDIPBzRbFVfanxG4wcNQ</td>\n",
       "      <td>Exotic Latin Grill</td>\n",
       "    </tr>\n",
       "  </tbody>\n",
       "</table>\n",
       "</div>"
      ],
      "text/plain": [
       "              business_id                    name\n",
       "0  5eq56X-e9YbAKmHgUOyXSg              Hunan Lion\n",
       "1  Fl_7YDOMt58rTNHa7p2G4w            Waffle House\n",
       "2  vecuat0jOia-CJveW3ngDw  Schmidt's Sausage Haus\n",
       "3  ZaMMUcOIngBCgxuKxFzfqg              McDonald's\n",
       "4  FrFDIPBzRbFVfanxG4wcNQ      Exotic Latin Grill"
      ]
     },
     "execution_count": 29,
     "metadata": {},
     "output_type": "execute_result"
    }
   ],
   "source": [
    "# Loads the dataframe that matches business ids to business names in case it's needed\n",
    "bid_name_df = pd.read_csv('../../Data/busid_to_name.csv')\n",
    "bid_name_df.head()"
   ]
  },
  {
   "cell_type": "code",
   "execution_count": 30,
   "metadata": {},
   "outputs": [
    {
     "data": {
      "text/html": [
       "<div>\n",
       "<style scoped>\n",
       "    .dataframe tbody tr th:only-of-type {\n",
       "        vertical-align: middle;\n",
       "    }\n",
       "\n",
       "    .dataframe tbody tr th {\n",
       "        vertical-align: top;\n",
       "    }\n",
       "\n",
       "    .dataframe thead th {\n",
       "        text-align: right;\n",
       "    }\n",
       "</style>\n",
       "<table border=\"1\" class=\"dataframe\">\n",
       "  <thead>\n",
       "    <tr style=\"text-align: right;\">\n",
       "      <th></th>\n",
       "      <th>identifier</th>\n",
       "      <th>att_GoodForKids</th>\n",
       "      <th>att_RestaurantsGoodForGroups</th>\n",
       "      <th>att_OutdoorSeating</th>\n",
       "      <th>att_RestaurantsReservations</th>\n",
       "      <th>att_HasAlcohol</th>\n",
       "      <th>att_RestaurantsTableService</th>\n",
       "      <th>meal_dinner</th>\n",
       "      <th>meal_lunch</th>\n",
       "      <th>amb_target</th>\n",
       "    </tr>\n",
       "  </thead>\n",
       "  <tbody>\n",
       "    <tr>\n",
       "      <th>0</th>\n",
       "      <td>5eq56X-e9YbAKmHgUOyXSg|Hunan Lion</td>\n",
       "      <td>1.0</td>\n",
       "      <td>1.0</td>\n",
       "      <td>0.0</td>\n",
       "      <td>1.0</td>\n",
       "      <td>1.0</td>\n",
       "      <td>1.0</td>\n",
       "      <td>1.0</td>\n",
       "      <td>1.0</td>\n",
       "      <td>2.0</td>\n",
       "    </tr>\n",
       "    <tr>\n",
       "      <th>1</th>\n",
       "      <td>Fl_7YDOMt58rTNHa7p2G4w|Waffle House</td>\n",
       "      <td>1.0</td>\n",
       "      <td>1.0</td>\n",
       "      <td>0.0</td>\n",
       "      <td>0.0</td>\n",
       "      <td>0.0</td>\n",
       "      <td>NaN</td>\n",
       "      <td>0.0</td>\n",
       "      <td>1.0</td>\n",
       "      <td>0.0</td>\n",
       "    </tr>\n",
       "    <tr>\n",
       "      <th>2</th>\n",
       "      <td>vecuat0jOia-CJveW3ngDw|Schmidt's Sausage Haus</td>\n",
       "      <td>1.0</td>\n",
       "      <td>1.0</td>\n",
       "      <td>NaN</td>\n",
       "      <td>0.0</td>\n",
       "      <td>1.0</td>\n",
       "      <td>NaN</td>\n",
       "      <td>1.0</td>\n",
       "      <td>1.0</td>\n",
       "      <td>1.0</td>\n",
       "    </tr>\n",
       "    <tr>\n",
       "      <th>3</th>\n",
       "      <td>ZaMMUcOIngBCgxuKxFzfqg|McDonald's</td>\n",
       "      <td>0.0</td>\n",
       "      <td>1.0</td>\n",
       "      <td>0.0</td>\n",
       "      <td>0.0</td>\n",
       "      <td>0.0</td>\n",
       "      <td>0.0</td>\n",
       "      <td>1.0</td>\n",
       "      <td>1.0</td>\n",
       "      <td>0.0</td>\n",
       "    </tr>\n",
       "    <tr>\n",
       "      <th>4</th>\n",
       "      <td>FrFDIPBzRbFVfanxG4wcNQ|Exotic Latin Grill</td>\n",
       "      <td>1.0</td>\n",
       "      <td>1.0</td>\n",
       "      <td>1.0</td>\n",
       "      <td>0.0</td>\n",
       "      <td>0.0</td>\n",
       "      <td>0.0</td>\n",
       "      <td>1.0</td>\n",
       "      <td>1.0</td>\n",
       "      <td>1.0</td>\n",
       "    </tr>\n",
       "  </tbody>\n",
       "</table>\n",
       "</div>"
      ],
      "text/plain": [
       "                                      identifier  att_GoodForKids  \\\n",
       "0              5eq56X-e9YbAKmHgUOyXSg|Hunan Lion              1.0   \n",
       "1            Fl_7YDOMt58rTNHa7p2G4w|Waffle House              1.0   \n",
       "2  vecuat0jOia-CJveW3ngDw|Schmidt's Sausage Haus              1.0   \n",
       "3              ZaMMUcOIngBCgxuKxFzfqg|McDonald's              0.0   \n",
       "4      FrFDIPBzRbFVfanxG4wcNQ|Exotic Latin Grill              1.0   \n",
       "\n",
       "   att_RestaurantsGoodForGroups  att_OutdoorSeating  \\\n",
       "0                           1.0                 0.0   \n",
       "1                           1.0                 0.0   \n",
       "2                           1.0                 NaN   \n",
       "3                           1.0                 0.0   \n",
       "4                           1.0                 1.0   \n",
       "\n",
       "   att_RestaurantsReservations  att_HasAlcohol  att_RestaurantsTableService  \\\n",
       "0                          1.0             1.0                          1.0   \n",
       "1                          0.0             0.0                          NaN   \n",
       "2                          0.0             1.0                          NaN   \n",
       "3                          0.0             0.0                          0.0   \n",
       "4                          0.0             0.0                          0.0   \n",
       "\n",
       "   meal_dinner  meal_lunch  amb_target  \n",
       "0          1.0         1.0         2.0  \n",
       "1          0.0         1.0         0.0  \n",
       "2          1.0         1.0         1.0  \n",
       "3          1.0         1.0         0.0  \n",
       "4          1.0         1.0         1.0  "
      ]
     },
     "execution_count": 30,
     "metadata": {},
     "output_type": "execute_result"
    }
   ],
   "source": [
    "# Loads the recommendation table\n",
    "rec_df = pd.read_csv('../../Data/recommender_table.csv')\n",
    "rec_df.head()"
   ]
  },
  {
   "cell_type": "code",
   "execution_count": 31,
   "metadata": {},
   "outputs": [],
   "source": [
    "# pulls out the index col\n",
    "rec_df[['business_id', 'name']] = rec_df['identifier'].str.split(\"|\",expand=True).drop(columns=2)\n",
    "\n",
    "business_id = rec_df.pop('business_id')\n",
    "rec_df.insert(0, 'business_id', business_id)\n",
    "\n",
    "name = rec_df.pop('name')\n",
    "rec_df.insert(1, 'name', name)\n",
    "\n",
    "rec_df.drop(columns=['identifier', 'business_id'], inplace=True)\n",
    "rec_df.set_index('name', inplace=True)"
   ]
  },
  {
   "cell_type": "code",
   "execution_count": 32,
   "metadata": {},
   "outputs": [
    {
     "data": {
      "text/html": [
       "<div>\n",
       "<style scoped>\n",
       "    .dataframe tbody tr th:only-of-type {\n",
       "        vertical-align: middle;\n",
       "    }\n",
       "\n",
       "    .dataframe tbody tr th {\n",
       "        vertical-align: top;\n",
       "    }\n",
       "\n",
       "    .dataframe thead th {\n",
       "        text-align: right;\n",
       "    }\n",
       "</style>\n",
       "<table border=\"1\" class=\"dataframe\">\n",
       "  <thead>\n",
       "    <tr style=\"text-align: right;\">\n",
       "      <th></th>\n",
       "      <th>att_GoodForKids</th>\n",
       "      <th>att_RestaurantsGoodForGroups</th>\n",
       "      <th>att_OutdoorSeating</th>\n",
       "      <th>att_RestaurantsReservations</th>\n",
       "      <th>att_HasAlcohol</th>\n",
       "      <th>att_RestaurantsTableService</th>\n",
       "      <th>meal_dinner</th>\n",
       "      <th>meal_lunch</th>\n",
       "      <th>amb_target</th>\n",
       "    </tr>\n",
       "    <tr>\n",
       "      <th>name</th>\n",
       "      <th></th>\n",
       "      <th></th>\n",
       "      <th></th>\n",
       "      <th></th>\n",
       "      <th></th>\n",
       "      <th></th>\n",
       "      <th></th>\n",
       "      <th></th>\n",
       "      <th></th>\n",
       "    </tr>\n",
       "  </thead>\n",
       "  <tbody>\n",
       "    <tr>\n",
       "      <th>Hunan Lion</th>\n",
       "      <td>1.0</td>\n",
       "      <td>1.0</td>\n",
       "      <td>0.0</td>\n",
       "      <td>1.0</td>\n",
       "      <td>1.0</td>\n",
       "      <td>1.0</td>\n",
       "      <td>1.0</td>\n",
       "      <td>1.0</td>\n",
       "      <td>2.0</td>\n",
       "    </tr>\n",
       "    <tr>\n",
       "      <th>Waffle House</th>\n",
       "      <td>1.0</td>\n",
       "      <td>1.0</td>\n",
       "      <td>0.0</td>\n",
       "      <td>0.0</td>\n",
       "      <td>0.0</td>\n",
       "      <td>NaN</td>\n",
       "      <td>0.0</td>\n",
       "      <td>1.0</td>\n",
       "      <td>0.0</td>\n",
       "    </tr>\n",
       "    <tr>\n",
       "      <th>Schmidt's Sausage Haus</th>\n",
       "      <td>1.0</td>\n",
       "      <td>1.0</td>\n",
       "      <td>NaN</td>\n",
       "      <td>0.0</td>\n",
       "      <td>1.0</td>\n",
       "      <td>NaN</td>\n",
       "      <td>1.0</td>\n",
       "      <td>1.0</td>\n",
       "      <td>1.0</td>\n",
       "    </tr>\n",
       "    <tr>\n",
       "      <th>McDonald's</th>\n",
       "      <td>0.0</td>\n",
       "      <td>1.0</td>\n",
       "      <td>0.0</td>\n",
       "      <td>0.0</td>\n",
       "      <td>0.0</td>\n",
       "      <td>0.0</td>\n",
       "      <td>1.0</td>\n",
       "      <td>1.0</td>\n",
       "      <td>0.0</td>\n",
       "    </tr>\n",
       "    <tr>\n",
       "      <th>Exotic Latin Grill</th>\n",
       "      <td>1.0</td>\n",
       "      <td>1.0</td>\n",
       "      <td>1.0</td>\n",
       "      <td>0.0</td>\n",
       "      <td>0.0</td>\n",
       "      <td>0.0</td>\n",
       "      <td>1.0</td>\n",
       "      <td>1.0</td>\n",
       "      <td>1.0</td>\n",
       "    </tr>\n",
       "    <tr>\n",
       "      <th>...</th>\n",
       "      <td>...</td>\n",
       "      <td>...</td>\n",
       "      <td>...</td>\n",
       "      <td>...</td>\n",
       "      <td>...</td>\n",
       "      <td>...</td>\n",
       "      <td>...</td>\n",
       "      <td>...</td>\n",
       "      <td>...</td>\n",
       "    </tr>\n",
       "    <tr>\n",
       "      <th>Panera Bread</th>\n",
       "      <td>1.0</td>\n",
       "      <td>1.0</td>\n",
       "      <td>1.0</td>\n",
       "      <td>0.0</td>\n",
       "      <td>0.0</td>\n",
       "      <td>NaN</td>\n",
       "      <td>1.0</td>\n",
       "      <td>1.0</td>\n",
       "      <td>1.0</td>\n",
       "    </tr>\n",
       "    <tr>\n",
       "      <th>Harvest Kitchen and Pizzeria - Bexley</th>\n",
       "      <td>1.0</td>\n",
       "      <td>1.0</td>\n",
       "      <td>1.0</td>\n",
       "      <td>0.0</td>\n",
       "      <td>NaN</td>\n",
       "      <td>1.0</td>\n",
       "      <td>1.0</td>\n",
       "      <td>1.0</td>\n",
       "      <td>NaN</td>\n",
       "    </tr>\n",
       "    <tr>\n",
       "      <th>Das KaffeeHaus von Frau Burkhart</th>\n",
       "      <td>1.0</td>\n",
       "      <td>NaN</td>\n",
       "      <td>1.0</td>\n",
       "      <td>NaN</td>\n",
       "      <td>NaN</td>\n",
       "      <td>NaN</td>\n",
       "      <td>NaN</td>\n",
       "      <td>NaN</td>\n",
       "      <td>NaN</td>\n",
       "    </tr>\n",
       "    <tr>\n",
       "      <th>Bistro 2110 At the Blackwell</th>\n",
       "      <td>1.0</td>\n",
       "      <td>1.0</td>\n",
       "      <td>0.0</td>\n",
       "      <td>1.0</td>\n",
       "      <td>1.0</td>\n",
       "      <td>NaN</td>\n",
       "      <td>1.0</td>\n",
       "      <td>1.0</td>\n",
       "      <td>0.0</td>\n",
       "    </tr>\n",
       "    <tr>\n",
       "      <th>Scramblers</th>\n",
       "      <td>1.0</td>\n",
       "      <td>1.0</td>\n",
       "      <td>0.0</td>\n",
       "      <td>0.0</td>\n",
       "      <td>0.0</td>\n",
       "      <td>1.0</td>\n",
       "      <td>0.0</td>\n",
       "      <td>1.0</td>\n",
       "      <td>1.0</td>\n",
       "    </tr>\n",
       "  </tbody>\n",
       "</table>\n",
       "<p>3331 rows × 9 columns</p>\n",
       "</div>"
      ],
      "text/plain": [
       "                                       att_GoodForKids  \\\n",
       "name                                                     \n",
       "Hunan Lion                                         1.0   \n",
       "Waffle House                                       1.0   \n",
       "Schmidt's Sausage Haus                             1.0   \n",
       "McDonald's                                         0.0   \n",
       "Exotic Latin Grill                                 1.0   \n",
       "...                                                ...   \n",
       "Panera Bread                                       1.0   \n",
       "Harvest Kitchen and Pizzeria - Bexley              1.0   \n",
       "Das KaffeeHaus von Frau Burkhart                   1.0   \n",
       "Bistro 2110 At the Blackwell                       1.0   \n",
       "Scramblers                                         1.0   \n",
       "\n",
       "                                       att_RestaurantsGoodForGroups  \\\n",
       "name                                                                  \n",
       "Hunan Lion                                                      1.0   \n",
       "Waffle House                                                    1.0   \n",
       "Schmidt's Sausage Haus                                          1.0   \n",
       "McDonald's                                                      1.0   \n",
       "Exotic Latin Grill                                              1.0   \n",
       "...                                                             ...   \n",
       "Panera Bread                                                    1.0   \n",
       "Harvest Kitchen and Pizzeria - Bexley                           1.0   \n",
       "Das KaffeeHaus von Frau Burkhart                                NaN   \n",
       "Bistro 2110 At the Blackwell                                    1.0   \n",
       "Scramblers                                                      1.0   \n",
       "\n",
       "                                       att_OutdoorSeating  \\\n",
       "name                                                        \n",
       "Hunan Lion                                            0.0   \n",
       "Waffle House                                          0.0   \n",
       "Schmidt's Sausage Haus                                NaN   \n",
       "McDonald's                                            0.0   \n",
       "Exotic Latin Grill                                    1.0   \n",
       "...                                                   ...   \n",
       "Panera Bread                                          1.0   \n",
       "Harvest Kitchen and Pizzeria - Bexley                 1.0   \n",
       "Das KaffeeHaus von Frau Burkhart                      1.0   \n",
       "Bistro 2110 At the Blackwell                          0.0   \n",
       "Scramblers                                            0.0   \n",
       "\n",
       "                                       att_RestaurantsReservations  \\\n",
       "name                                                                 \n",
       "Hunan Lion                                                     1.0   \n",
       "Waffle House                                                   0.0   \n",
       "Schmidt's Sausage Haus                                         0.0   \n",
       "McDonald's                                                     0.0   \n",
       "Exotic Latin Grill                                             0.0   \n",
       "...                                                            ...   \n",
       "Panera Bread                                                   0.0   \n",
       "Harvest Kitchen and Pizzeria - Bexley                          0.0   \n",
       "Das KaffeeHaus von Frau Burkhart                               NaN   \n",
       "Bistro 2110 At the Blackwell                                   1.0   \n",
       "Scramblers                                                     0.0   \n",
       "\n",
       "                                       att_HasAlcohol  \\\n",
       "name                                                    \n",
       "Hunan Lion                                        1.0   \n",
       "Waffle House                                      0.0   \n",
       "Schmidt's Sausage Haus                            1.0   \n",
       "McDonald's                                        0.0   \n",
       "Exotic Latin Grill                                0.0   \n",
       "...                                               ...   \n",
       "Panera Bread                                      0.0   \n",
       "Harvest Kitchen and Pizzeria - Bexley             NaN   \n",
       "Das KaffeeHaus von Frau Burkhart                  NaN   \n",
       "Bistro 2110 At the Blackwell                      1.0   \n",
       "Scramblers                                        0.0   \n",
       "\n",
       "                                       att_RestaurantsTableService  \\\n",
       "name                                                                 \n",
       "Hunan Lion                                                     1.0   \n",
       "Waffle House                                                   NaN   \n",
       "Schmidt's Sausage Haus                                         NaN   \n",
       "McDonald's                                                     0.0   \n",
       "Exotic Latin Grill                                             0.0   \n",
       "...                                                            ...   \n",
       "Panera Bread                                                   NaN   \n",
       "Harvest Kitchen and Pizzeria - Bexley                          1.0   \n",
       "Das KaffeeHaus von Frau Burkhart                               NaN   \n",
       "Bistro 2110 At the Blackwell                                   NaN   \n",
       "Scramblers                                                     1.0   \n",
       "\n",
       "                                       meal_dinner  meal_lunch  amb_target  \n",
       "name                                                                        \n",
       "Hunan Lion                                     1.0         1.0         2.0  \n",
       "Waffle House                                   0.0         1.0         0.0  \n",
       "Schmidt's Sausage Haus                         1.0         1.0         1.0  \n",
       "McDonald's                                     1.0         1.0         0.0  \n",
       "Exotic Latin Grill                             1.0         1.0         1.0  \n",
       "...                                            ...         ...         ...  \n",
       "Panera Bread                                   1.0         1.0         1.0  \n",
       "Harvest Kitchen and Pizzeria - Bexley          1.0         1.0         NaN  \n",
       "Das KaffeeHaus von Frau Burkhart               NaN         NaN         NaN  \n",
       "Bistro 2110 At the Blackwell                   1.0         1.0         0.0  \n",
       "Scramblers                                     0.0         1.0         1.0  \n",
       "\n",
       "[3331 rows x 9 columns]"
      ]
     },
     "execution_count": 32,
     "metadata": {},
     "output_type": "execute_result"
    }
   ],
   "source": [
    "rec_df"
   ]
  },
  {
   "cell_type": "code",
   "execution_count": 33,
   "metadata": {},
   "outputs": [
    {
     "data": {
      "text/plain": [
       "(3331, 9)"
      ]
     },
     "execution_count": 33,
     "metadata": {},
     "output_type": "execute_result"
    }
   ],
   "source": [
    "rec_df.shape"
   ]
  },
  {
   "cell_type": "markdown",
   "metadata": {},
   "source": [
    "### Adds the user's feature array to the dataframe and calculates cosine distances"
   ]
  },
  {
   "cell_type": "code",
   "execution_count": 34,
   "metadata": {},
   "outputs": [],
   "source": [
    "feature_array_df = pd.DataFrame([feature_array], columns=rec_df.columns, index=['User Input'])"
   ]
  },
  {
   "cell_type": "code",
   "execution_count": 35,
   "metadata": {},
   "outputs": [],
   "source": [
    "rec_df_sample = pd.concat([rec_df, feature_array_df])"
   ]
  },
  {
   "cell_type": "code",
   "execution_count": 36,
   "metadata": {},
   "outputs": [
    {
     "data": {
      "text/html": [
       "<div>\n",
       "<style scoped>\n",
       "    .dataframe tbody tr th:only-of-type {\n",
       "        vertical-align: middle;\n",
       "    }\n",
       "\n",
       "    .dataframe tbody tr th {\n",
       "        vertical-align: top;\n",
       "    }\n",
       "\n",
       "    .dataframe thead th {\n",
       "        text-align: right;\n",
       "    }\n",
       "</style>\n",
       "<table border=\"1\" class=\"dataframe\">\n",
       "  <thead>\n",
       "    <tr style=\"text-align: right;\">\n",
       "      <th></th>\n",
       "      <th>att_GoodForKids</th>\n",
       "      <th>att_RestaurantsGoodForGroups</th>\n",
       "      <th>att_OutdoorSeating</th>\n",
       "      <th>att_RestaurantsReservations</th>\n",
       "      <th>att_HasAlcohol</th>\n",
       "      <th>att_RestaurantsTableService</th>\n",
       "      <th>meal_dinner</th>\n",
       "      <th>meal_lunch</th>\n",
       "      <th>amb_target</th>\n",
       "    </tr>\n",
       "  </thead>\n",
       "  <tbody>\n",
       "    <tr>\n",
       "      <th>Harvest Kitchen and Pizzeria - Bexley</th>\n",
       "      <td>1.0</td>\n",
       "      <td>1.0</td>\n",
       "      <td>1.0</td>\n",
       "      <td>0.0</td>\n",
       "      <td>NaN</td>\n",
       "      <td>1.0</td>\n",
       "      <td>1.0</td>\n",
       "      <td>1.0</td>\n",
       "      <td>NaN</td>\n",
       "    </tr>\n",
       "    <tr>\n",
       "      <th>Das KaffeeHaus von Frau Burkhart</th>\n",
       "      <td>1.0</td>\n",
       "      <td>NaN</td>\n",
       "      <td>1.0</td>\n",
       "      <td>NaN</td>\n",
       "      <td>NaN</td>\n",
       "      <td>NaN</td>\n",
       "      <td>NaN</td>\n",
       "      <td>NaN</td>\n",
       "      <td>NaN</td>\n",
       "    </tr>\n",
       "    <tr>\n",
       "      <th>Bistro 2110 At the Blackwell</th>\n",
       "      <td>1.0</td>\n",
       "      <td>1.0</td>\n",
       "      <td>0.0</td>\n",
       "      <td>1.0</td>\n",
       "      <td>1.0</td>\n",
       "      <td>NaN</td>\n",
       "      <td>1.0</td>\n",
       "      <td>1.0</td>\n",
       "      <td>0.0</td>\n",
       "    </tr>\n",
       "    <tr>\n",
       "      <th>Scramblers</th>\n",
       "      <td>1.0</td>\n",
       "      <td>1.0</td>\n",
       "      <td>0.0</td>\n",
       "      <td>0.0</td>\n",
       "      <td>0.0</td>\n",
       "      <td>1.0</td>\n",
       "      <td>0.0</td>\n",
       "      <td>1.0</td>\n",
       "      <td>1.0</td>\n",
       "    </tr>\n",
       "    <tr>\n",
       "      <th>User Input</th>\n",
       "      <td>1.0</td>\n",
       "      <td>1.0</td>\n",
       "      <td>1.0</td>\n",
       "      <td>0.0</td>\n",
       "      <td>1.0</td>\n",
       "      <td>0.0</td>\n",
       "      <td>1.0</td>\n",
       "      <td>0.0</td>\n",
       "      <td>3.0</td>\n",
       "    </tr>\n",
       "  </tbody>\n",
       "</table>\n",
       "</div>"
      ],
      "text/plain": [
       "                                       att_GoodForKids  \\\n",
       "Harvest Kitchen and Pizzeria - Bexley              1.0   \n",
       "Das KaffeeHaus von Frau Burkhart                   1.0   \n",
       "Bistro 2110 At the Blackwell                       1.0   \n",
       "Scramblers                                         1.0   \n",
       "User Input                                         1.0   \n",
       "\n",
       "                                       att_RestaurantsGoodForGroups  \\\n",
       "Harvest Kitchen and Pizzeria - Bexley                           1.0   \n",
       "Das KaffeeHaus von Frau Burkhart                                NaN   \n",
       "Bistro 2110 At the Blackwell                                    1.0   \n",
       "Scramblers                                                      1.0   \n",
       "User Input                                                      1.0   \n",
       "\n",
       "                                       att_OutdoorSeating  \\\n",
       "Harvest Kitchen and Pizzeria - Bexley                 1.0   \n",
       "Das KaffeeHaus von Frau Burkhart                      1.0   \n",
       "Bistro 2110 At the Blackwell                          0.0   \n",
       "Scramblers                                            0.0   \n",
       "User Input                                            1.0   \n",
       "\n",
       "                                       att_RestaurantsReservations  \\\n",
       "Harvest Kitchen and Pizzeria - Bexley                          0.0   \n",
       "Das KaffeeHaus von Frau Burkhart                               NaN   \n",
       "Bistro 2110 At the Blackwell                                   1.0   \n",
       "Scramblers                                                     0.0   \n",
       "User Input                                                     0.0   \n",
       "\n",
       "                                       att_HasAlcohol  \\\n",
       "Harvest Kitchen and Pizzeria - Bexley             NaN   \n",
       "Das KaffeeHaus von Frau Burkhart                  NaN   \n",
       "Bistro 2110 At the Blackwell                      1.0   \n",
       "Scramblers                                        0.0   \n",
       "User Input                                        1.0   \n",
       "\n",
       "                                       att_RestaurantsTableService  \\\n",
       "Harvest Kitchen and Pizzeria - Bexley                          1.0   \n",
       "Das KaffeeHaus von Frau Burkhart                               NaN   \n",
       "Bistro 2110 At the Blackwell                                   NaN   \n",
       "Scramblers                                                     1.0   \n",
       "User Input                                                     0.0   \n",
       "\n",
       "                                       meal_dinner  meal_lunch  amb_target  \n",
       "Harvest Kitchen and Pizzeria - Bexley          1.0         1.0         NaN  \n",
       "Das KaffeeHaus von Frau Burkhart               NaN         NaN         NaN  \n",
       "Bistro 2110 At the Blackwell                   1.0         1.0         0.0  \n",
       "Scramblers                                     0.0         1.0         1.0  \n",
       "User Input                                     1.0         0.0         3.0  "
      ]
     },
     "execution_count": 36,
     "metadata": {},
     "output_type": "execute_result"
    }
   ],
   "source": [
    "rec_df_sample.tail()"
   ]
  },
  {
   "cell_type": "code",
   "execution_count": 37,
   "metadata": {},
   "outputs": [],
   "source": [
    "# Creates the sparse matrix\n",
    "sparse_df = sparse.csr_matrix(rec_df_sample.fillna(-1))"
   ]
  },
  {
   "cell_type": "code",
   "execution_count": 38,
   "metadata": {},
   "outputs": [],
   "source": [
    "# returns the cosine distances between restaurants for every restaurant (therefore # rows = # of restaurants and # cols = # of restaurants )\n",
    "recommender = cosine_distances(sparse_df) \n",
    "\n",
    "# cosine distances (smaller = more similar)"
   ]
  },
  {
   "cell_type": "code",
   "execution_count": 39,
   "metadata": {},
   "outputs": [
    {
     "data": {
      "text/plain": [
       "3332"
      ]
     },
     "execution_count": 39,
     "metadata": {},
     "output_type": "execute_result"
    }
   ],
   "source": [
    "# Checks the length\n",
    "len(recommender)"
   ]
  },
  {
   "cell_type": "code",
   "execution_count": 40,
   "metadata": {},
   "outputs": [
    {
     "data": {
      "text/html": [
       "<div>\n",
       "<style scoped>\n",
       "    .dataframe tbody tr th:only-of-type {\n",
       "        vertical-align: middle;\n",
       "    }\n",
       "\n",
       "    .dataframe tbody tr th {\n",
       "        vertical-align: top;\n",
       "    }\n",
       "\n",
       "    .dataframe thead th {\n",
       "        text-align: right;\n",
       "    }\n",
       "</style>\n",
       "<table border=\"1\" class=\"dataframe\">\n",
       "  <thead>\n",
       "    <tr style=\"text-align: right;\">\n",
       "      <th></th>\n",
       "      <th>Hunan Lion</th>\n",
       "      <th>Waffle House</th>\n",
       "      <th>Schmidt's Sausage Haus</th>\n",
       "      <th>McDonald's</th>\n",
       "      <th>Exotic Latin Grill</th>\n",
       "      <th>White Castle</th>\n",
       "      <th>Pablo's Havana Cafe</th>\n",
       "      <th>Spicy Cup Cafe &amp; Bakery</th>\n",
       "      <th>Red Robin Gourmet Burgers and Brews</th>\n",
       "      <th>Fresh Start Cafe and Bakery</th>\n",
       "      <th>...</th>\n",
       "      <th>Starbucks</th>\n",
       "      <th>Moe's Southwest Grill</th>\n",
       "      <th>Charleys Philly Steaks &amp; Wings</th>\n",
       "      <th>McDonald's</th>\n",
       "      <th>Panera Bread</th>\n",
       "      <th>Harvest Kitchen and Pizzeria - Bexley</th>\n",
       "      <th>Das KaffeeHaus von Frau Burkhart</th>\n",
       "      <th>Bistro 2110 At the Blackwell</th>\n",
       "      <th>Scramblers</th>\n",
       "      <th>User Input</th>\n",
       "    </tr>\n",
       "  </thead>\n",
       "  <tbody>\n",
       "    <tr>\n",
       "      <th>Hunan Lion</th>\n",
       "      <td>0.000000</td>\n",
       "      <td>0.698489</td>\n",
       "      <td>0.360398</td>\n",
       "      <td>0.477767</td>\n",
       "      <td>0.261451</td>\n",
       "      <td>0.698489</td>\n",
       "      <td>0.595480</td>\n",
       "      <td>0.477767</td>\n",
       "      <td>0.237230</td>\n",
       "      <td>0.396977</td>\n",
       "      <td>...</td>\n",
       "      <td>1.904534</td>\n",
       "      <td>1.000000</td>\n",
       "      <td>1.150756</td>\n",
       "      <td>0.849244</td>\n",
       "      <td>0.430197</td>\n",
       "      <td>0.786799</td>\n",
       "      <td>1.703526</td>\n",
       "      <td>0.430197</td>\n",
       "      <td>0.190960</td>\n",
       "      <td>0.194177</td>\n",
       "    </tr>\n",
       "    <tr>\n",
       "      <th>Waffle House</th>\n",
       "      <td>0.698489</td>\n",
       "      <td>0.000000</td>\n",
       "      <td>0.292893</td>\n",
       "      <td>0.422650</td>\n",
       "      <td>0.387628</td>\n",
       "      <td>0.666667</td>\n",
       "      <td>1.223607</td>\n",
       "      <td>0.711325</td>\n",
       "      <td>1.000000</td>\n",
       "      <td>0.500000</td>\n",
       "      <td>...</td>\n",
       "      <td>1.333333</td>\n",
       "      <td>0.387628</td>\n",
       "      <td>0.500000</td>\n",
       "      <td>0.250000</td>\n",
       "      <td>0.244071</td>\n",
       "      <td>0.646447</td>\n",
       "      <td>1.000000</td>\n",
       "      <td>0.244071</td>\n",
       "      <td>0.552786</td>\n",
       "      <td>0.732739</td>\n",
       "    </tr>\n",
       "    <tr>\n",
       "      <th>Schmidt's Sausage Haus</th>\n",
       "      <td>0.360398</td>\n",
       "      <td>0.292893</td>\n",
       "      <td>0.000000</td>\n",
       "      <td>0.387628</td>\n",
       "      <td>0.422650</td>\n",
       "      <td>0.646447</td>\n",
       "      <td>1.158114</td>\n",
       "      <td>0.795876</td>\n",
       "      <td>0.552786</td>\n",
       "      <td>0.646447</td>\n",
       "      <td>...</td>\n",
       "      <td>1.707107</td>\n",
       "      <td>1.000000</td>\n",
       "      <td>0.646447</td>\n",
       "      <td>0.646447</td>\n",
       "      <td>0.331847</td>\n",
       "      <td>1.000000</td>\n",
       "      <td>1.471405</td>\n",
       "      <td>0.198216</td>\n",
       "      <td>0.525658</td>\n",
       "      <td>0.433053</td>\n",
       "    </tr>\n",
       "    <tr>\n",
       "      <th>McDonald's</th>\n",
       "      <td>0.477767</td>\n",
       "      <td>0.422650</td>\n",
       "      <td>0.387628</td>\n",
       "      <td>0.000000</td>\n",
       "      <td>0.292893</td>\n",
       "      <td>1.192450</td>\n",
       "      <td>0.741801</td>\n",
       "      <td>0.666667</td>\n",
       "      <td>0.817426</td>\n",
       "      <td>0.711325</td>\n",
       "      <td>...</td>\n",
       "      <td>1.577350</td>\n",
       "      <td>0.764298</td>\n",
       "      <td>1.000000</td>\n",
       "      <td>0.711325</td>\n",
       "      <td>0.345346</td>\n",
       "      <td>0.387628</td>\n",
       "      <td>1.577350</td>\n",
       "      <td>0.345346</td>\n",
       "      <td>0.483602</td>\n",
       "      <td>0.691393</td>\n",
       "    </tr>\n",
       "    <tr>\n",
       "      <th>Exotic Latin Grill</th>\n",
       "      <td>0.261451</td>\n",
       "      <td>0.387628</td>\n",
       "      <td>0.422650</td>\n",
       "      <td>0.292893</td>\n",
       "      <td>0.000000</td>\n",
       "      <td>0.727834</td>\n",
       "      <td>0.634852</td>\n",
       "      <td>0.528595</td>\n",
       "      <td>0.483602</td>\n",
       "      <td>0.183503</td>\n",
       "      <td>...</td>\n",
       "      <td>1.544331</td>\n",
       "      <td>0.666667</td>\n",
       "      <td>1.000000</td>\n",
       "      <td>0.387628</td>\n",
       "      <td>0.074180</td>\n",
       "      <td>0.422650</td>\n",
       "      <td>1.272166</td>\n",
       "      <td>0.382787</td>\n",
       "      <td>0.269703</td>\n",
       "      <td>0.236237</td>\n",
       "    </tr>\n",
       "  </tbody>\n",
       "</table>\n",
       "<p>5 rows × 3332 columns</p>\n",
       "</div>"
      ],
      "text/plain": [
       "                        Hunan Lion  Waffle House  Schmidt's Sausage Haus  \\\n",
       "Hunan Lion                0.000000      0.698489                0.360398   \n",
       "Waffle House              0.698489      0.000000                0.292893   \n",
       "Schmidt's Sausage Haus    0.360398      0.292893                0.000000   \n",
       "McDonald's                0.477767      0.422650                0.387628   \n",
       "Exotic Latin Grill        0.261451      0.387628                0.422650   \n",
       "\n",
       "                        McDonald's  Exotic Latin Grill  White Castle  \\\n",
       "Hunan Lion                0.477767            0.261451      0.698489   \n",
       "Waffle House              0.422650            0.387628      0.666667   \n",
       "Schmidt's Sausage Haus    0.387628            0.422650      0.646447   \n",
       "McDonald's                0.000000            0.292893      1.192450   \n",
       "Exotic Latin Grill        0.292893            0.000000      0.727834   \n",
       "\n",
       "                        Pablo's Havana Cafe  Spicy Cup Cafe & Bakery  \\\n",
       "Hunan Lion                         0.595480                 0.477767   \n",
       "Waffle House                       1.223607                 0.711325   \n",
       "Schmidt's Sausage Haus             1.158114                 0.795876   \n",
       "McDonald's                         0.741801                 0.666667   \n",
       "Exotic Latin Grill                 0.634852                 0.528595   \n",
       "\n",
       "                        Red Robin Gourmet Burgers and Brews  \\\n",
       "Hunan Lion                                         0.237230   \n",
       "Waffle House                                       1.000000   \n",
       "Schmidt's Sausage Haus                             0.552786   \n",
       "McDonald's                                         0.817426   \n",
       "Exotic Latin Grill                                 0.483602   \n",
       "\n",
       "                        Fresh Start Cafe and Bakery  ...  Starbucks  \\\n",
       "Hunan Lion                                 0.396977  ...   1.904534   \n",
       "Waffle House                               0.500000  ...   1.333333   \n",
       "Schmidt's Sausage Haus                     0.646447  ...   1.707107   \n",
       "McDonald's                                 0.711325  ...   1.577350   \n",
       "Exotic Latin Grill                         0.183503  ...   1.544331   \n",
       "\n",
       "                        Moe's Southwest Grill  Charleys Philly Steaks & Wings  \\\n",
       "Hunan Lion                           1.000000                        1.150756   \n",
       "Waffle House                         0.387628                        0.500000   \n",
       "Schmidt's Sausage Haus               1.000000                        0.646447   \n",
       "McDonald's                           0.764298                        1.000000   \n",
       "Exotic Latin Grill                   0.666667                        1.000000   \n",
       "\n",
       "                        McDonald's  Panera Bread  \\\n",
       "Hunan Lion                0.849244      0.430197   \n",
       "Waffle House              0.250000      0.244071   \n",
       "Schmidt's Sausage Haus    0.646447      0.331847   \n",
       "McDonald's                0.711325      0.345346   \n",
       "Exotic Latin Grill        0.387628      0.074180   \n",
       "\n",
       "                        Harvest Kitchen and Pizzeria - Bexley  \\\n",
       "Hunan Lion                                           0.786799   \n",
       "Waffle House                                         0.646447   \n",
       "Schmidt's Sausage Haus                               1.000000   \n",
       "McDonald's                                           0.387628   \n",
       "Exotic Latin Grill                                   0.422650   \n",
       "\n",
       "                        Das KaffeeHaus von Frau Burkhart  \\\n",
       "Hunan Lion                                      1.703526   \n",
       "Waffle House                                    1.000000   \n",
       "Schmidt's Sausage Haus                          1.471405   \n",
       "McDonald's                                      1.577350   \n",
       "Exotic Latin Grill                              1.272166   \n",
       "\n",
       "                        Bistro 2110 At the Blackwell  Scramblers  User Input  \n",
       "Hunan Lion                                  0.430197    0.190960    0.194177  \n",
       "Waffle House                                0.244071    0.552786    0.732739  \n",
       "Schmidt's Sausage Haus                      0.198216    0.525658    0.433053  \n",
       "McDonald's                                  0.345346    0.483602    0.691393  \n",
       "Exotic Latin Grill                          0.382787    0.269703    0.236237  \n",
       "\n",
       "[5 rows x 3332 columns]"
      ]
     },
     "execution_count": 40,
     "metadata": {},
     "output_type": "execute_result"
    }
   ],
   "source": [
    "recommender_df = pd.DataFrame(recommender, index=rec_df_sample.index, columns=rec_df_sample.index)\n",
    "recommender_df.head()"
   ]
  },
  {
   "cell_type": "code",
   "execution_count": null,
   "metadata": {},
   "outputs": [],
   "source": []
  },
  {
   "cell_type": "markdown",
   "metadata": {},
   "source": [
    "#### Extra analysis with cosine similarities: "
   ]
  },
  {
   "cell_type": "code",
   "execution_count": 41,
   "metadata": {},
   "outputs": [
    {
     "data": {
      "text/plain": [
       "array([1.        , 0.30151134, 0.63960215, ..., 0.56980288, 0.80903983,\n",
       "       0.80582296])"
      ]
     },
     "execution_count": 41,
     "metadata": {},
     "output_type": "execute_result"
    }
   ],
   "source": [
    "# returns the cosine similarities (larger = more similar)\n",
    "cosine_similarity(sparse_df)[0]\n",
    "\n",
    "# cosine_similarity = 1.0 - cosine_distance"
   ]
  },
  {
   "cell_type": "markdown",
   "metadata": {},
   "source": [
    "### Evaluates recommender performance"
   ]
  },
  {
   "cell_type": "code",
   "execution_count": 42,
   "metadata": {},
   "outputs": [],
   "source": [
    "# q = 'User Input'\n",
    "# titles = rec_df_sample[rec_df_sample.index.str.contains(q)].index\n",
    "\n",
    "# for title in titles:\n",
    "#     print(title)\n",
    "#     print(recommender_df[title].sort_values()[1:11])\n",
    "#     print(\"*\"*30)\n",
    "#     print()"
   ]
  },
  {
   "cell_type": "code",
   "execution_count": 43,
   "metadata": {},
   "outputs": [
    {
     "data": {
      "text/html": [
       "<div>\n",
       "<style scoped>\n",
       "    .dataframe tbody tr th:only-of-type {\n",
       "        vertical-align: middle;\n",
       "    }\n",
       "\n",
       "    .dataframe tbody tr th {\n",
       "        vertical-align: top;\n",
       "    }\n",
       "\n",
       "    .dataframe thead th {\n",
       "        text-align: right;\n",
       "    }\n",
       "</style>\n",
       "<table border=\"1\" class=\"dataframe\">\n",
       "  <thead>\n",
       "    <tr style=\"text-align: right;\">\n",
       "      <th></th>\n",
       "      <th>Restaurant Recommendations</th>\n",
       "    </tr>\n",
       "  </thead>\n",
       "  <tbody>\n",
       "    <tr>\n",
       "      <th>0</th>\n",
       "      <td>Caffé DaVinci</td>\n",
       "    </tr>\n",
       "    <tr>\n",
       "      <th>1</th>\n",
       "      <td>Brassica</td>\n",
       "    </tr>\n",
       "    <tr>\n",
       "      <th>2</th>\n",
       "      <td>Northstar Cafe</td>\n",
       "    </tr>\n",
       "    <tr>\n",
       "      <th>3</th>\n",
       "      <td>Panini Opa</td>\n",
       "    </tr>\n",
       "    <tr>\n",
       "      <th>4</th>\n",
       "      <td>Sweet Carrot</td>\n",
       "    </tr>\n",
       "    <tr>\n",
       "      <th>5</th>\n",
       "      <td>Mohio Pizza</td>\n",
       "    </tr>\n",
       "    <tr>\n",
       "      <th>6</th>\n",
       "      <td>La Tavola</td>\n",
       "    </tr>\n",
       "    <tr>\n",
       "      <th>7</th>\n",
       "      <td>Aab India Restaurant</td>\n",
       "    </tr>\n",
       "    <tr>\n",
       "      <th>8</th>\n",
       "      <td>Condado Tacos</td>\n",
       "    </tr>\n",
       "    <tr>\n",
       "      <th>9</th>\n",
       "      <td>Pat and Gracie's</td>\n",
       "    </tr>\n",
       "  </tbody>\n",
       "</table>\n",
       "</div>"
      ],
      "text/plain": [
       "  Restaurant Recommendations\n",
       "0              Caffé DaVinci\n",
       "1                   Brassica\n",
       "2             Northstar Cafe\n",
       "3                 Panini Opa\n",
       "4               Sweet Carrot\n",
       "5                Mohio Pizza\n",
       "6                  La Tavola\n",
       "7       Aab India Restaurant\n",
       "8              Condado Tacos\n",
       "9           Pat and Gracie's"
      ]
     },
     "execution_count": 43,
     "metadata": {},
     "output_type": "execute_result"
    }
   ],
   "source": [
    "title = 'User Input'\n",
    "recommender_df[title].sort_values()[1:11].to_frame().reset_index(drop=False).rename(columns={'index': 'Restaurant Recommendations'})[['Restaurant Recommendations']]"
   ]
  },
  {
   "cell_type": "code",
   "execution_count": 44,
   "metadata": {},
   "outputs": [
    {
     "data": {
      "text/html": [
       "<div>\n",
       "<style scoped>\n",
       "    .dataframe tbody tr th:only-of-type {\n",
       "        vertical-align: middle;\n",
       "    }\n",
       "\n",
       "    .dataframe tbody tr th {\n",
       "        vertical-align: top;\n",
       "    }\n",
       "\n",
       "    .dataframe thead th {\n",
       "        text-align: right;\n",
       "    }\n",
       "</style>\n",
       "<table border=\"1\" class=\"dataframe\">\n",
       "  <thead>\n",
       "    <tr style=\"text-align: right;\">\n",
       "      <th></th>\n",
       "      <th>att_GoodForKids</th>\n",
       "      <th>att_RestaurantsGoodForGroups</th>\n",
       "      <th>att_OutdoorSeating</th>\n",
       "      <th>att_RestaurantsReservations</th>\n",
       "      <th>att_HasAlcohol</th>\n",
       "      <th>att_RestaurantsTableService</th>\n",
       "      <th>meal_dinner</th>\n",
       "      <th>meal_lunch</th>\n",
       "      <th>amb_target</th>\n",
       "    </tr>\n",
       "  </thead>\n",
       "  <tbody>\n",
       "    <tr>\n",
       "      <th>User Input</th>\n",
       "      <td>1</td>\n",
       "      <td>1</td>\n",
       "      <td>1</td>\n",
       "      <td>0</td>\n",
       "      <td>1</td>\n",
       "      <td>0</td>\n",
       "      <td>1</td>\n",
       "      <td>0</td>\n",
       "      <td>3</td>\n",
       "    </tr>\n",
       "  </tbody>\n",
       "</table>\n",
       "</div>"
      ],
      "text/plain": [
       "            att_GoodForKids  att_RestaurantsGoodForGroups  att_OutdoorSeating  \\\n",
       "User Input                1                             1                   1   \n",
       "\n",
       "            att_RestaurantsReservations  att_HasAlcohol  \\\n",
       "User Input                            0               1   \n",
       "\n",
       "            att_RestaurantsTableService  meal_dinner  meal_lunch  amb_target  \n",
       "User Input                            0            1           0           3  "
      ]
     },
     "execution_count": 44,
     "metadata": {},
     "output_type": "execute_result"
    }
   ],
   "source": [
    "feature_array_df"
   ]
  },
  {
   "cell_type": "code",
   "execution_count": null,
   "metadata": {},
   "outputs": [],
   "source": []
  }
 ],
 "metadata": {
  "environment": {
   "name": "tf2-gpu.2-4.m65",
   "type": "gcloud",
   "uri": "gcr.io/deeplearning-platform-release/tf2-gpu.2-4:m65"
  },
  "kernelspec": {
   "display_name": "Python (nnet)",
   "language": "python",
   "name": "nnet"
  },
  "language_info": {
   "codemirror_mode": {
    "name": "ipython",
    "version": 3
   },
   "file_extension": ".py",
   "mimetype": "text/x-python",
   "name": "python",
   "nbconvert_exporter": "python",
   "pygments_lexer": "ipython3",
   "version": "3.8.8"
  }
 },
 "nbformat": 4,
 "nbformat_minor": 5
}
